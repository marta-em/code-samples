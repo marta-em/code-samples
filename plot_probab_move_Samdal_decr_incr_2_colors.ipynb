{
 "cells": [
  {
   "cell_type": "code",
   "execution_count": 6,
   "metadata": {
    "collapsed": false
   },
   "outputs": [],
   "source": [
    "import matplotlib.pyplot as plt\n",
    "import numpy as np\n",
    "from numpy import ma\n",
    "import pandas as pd\n",
    "from sklearn import preprocessing\n",
    "import seaborn as sns\n",
    "import seaborn as sns; sns.set() \n",
    "from matplotlib.pyplot import *\n",
    "import matplotlib.cm as cm\n",
    "import matplotlib as mpl\n",
    "\n",
    "sns.set_palette(\"hls\") \n",
    "sns.set_style(\"white\")\n",
    "\n",
    "df = pd.read_csv('C:\\\\Users\\\\MnM\\\\Samdal_power_weather_1h_prob_move_data_nona.csv')\n",
    "df2 = pd.read_csv('C:\\\\Users\\\\MnM\\\\Samdal_power_weather_1h_prob_move_data_nona_prob.csv')\n",
    "\n",
    "df2.total_cases = df2.total_cases.fillna(method ='ffill')\n",
    "df2['count_cases'] = df2['count_cases'].apply(float)\n",
    "df2['probab'] = (df2.count_cases)/(df2.total_cases)\n"
   ]
  },
  {
   "cell_type": "code",
   "execution_count": 7,
   "metadata": {
    "collapsed": false
   },
   "outputs": [
    {
     "data": {
      "text/plain": [
       "959"
      ]
     },
     "execution_count": 7,
     "metadata": {},
     "output_type": "execute_result"
    }
   ],
   "source": [
    "# make column indicating whether next value will increase or decrease\n",
    "\n",
    "# trend of the next value of power\n",
    "list_decr_incr = []\n",
    "\n",
    "for i in range(len(df2)):\n",
    "    if df2.power_100[i] > df2.next_power_100[i]:\n",
    "        list_decr_incr.append('decreasing')\n",
    "    elif df2.power_100[i] < df2.next_power_100[i]:\n",
    "        list_decr_incr.append('increasing')\n",
    "    elif df2.power_100[i] == df2.next_power_100[i]:\n",
    "        list_decr_incr.append('steady')\n",
    "    else:\n",
    "        list_decr_incr.append(np.nan)\n",
    "\n",
    "# list of features indicating decr./incr/steady wind power series trend\n",
    "df2['trend'] = list_decr_incr"
   ]
  },
  {
   "cell_type": "code",
   "execution_count": 18,
   "metadata": {
    "collapsed": false
   },
   "outputs": [],
   "source": [
    "# change trend into numbers\n",
    "\n",
    "trend_as_no_list = []\n",
    "\n",
    "for x in df2['trend']:\n",
    "    if x == 'decreasing':\n",
    "        trend_as_no_list.append(-1)\n",
    "    elif x== 'increasing':\n",
    "        trend_as_no_list.append(1)\n",
    "    else:\n",
    "        trend_as_no_list.append(0)\n",
    "    \n",
    "df2['trend_no'] = trend_as_no_list"
   ]
  },
  {
   "cell_type": "code",
   "execution_count": 35,
   "metadata": {
    "collapsed": false
   },
   "outputs": [
    {
     "name": "stderr",
     "output_type": "stream",
     "text": [
      "C:\\Anaconda3\\lib\\site-packages\\sklearn\\preprocessing\\data.py:321: DeprecationWarning: Passing 1d arrays as data is deprecated in 0.17 and will raise ValueError in 0.19. Reshape your data either using X.reshape(-1, 1) if your data has a single feature or X.reshape(1, -1) if it contains a single sample.\n",
      "  warnings.warn(DEPRECATION_MSG_1D, DeprecationWarning)\n",
      "C:\\Anaconda3\\lib\\site-packages\\sklearn\\preprocessing\\data.py:356: DeprecationWarning: Passing 1d arrays as data is deprecated in 0.17 and will raise ValueError in 0.19. Reshape your data either using X.reshape(-1, 1) if your data has a single feature or X.reshape(1, -1) if it contains a single sample.\n",
      "  warnings.warn(DEPRECATION_MSG_1D, DeprecationWarning)\n"
     ]
    }
   ],
   "source": [
    "# autoscale for clarity\n",
    "\n",
    "x = df.speed_05\n",
    "y = df.power_100\n",
    "\n",
    "# next\n",
    "speed_dir = df.next_speed_05\n",
    "power_dir = df.next_power_100\n",
    "\n",
    "diff_speed = (df.next_speed_05 - df.speed_05)\n",
    "diff_power = (df.next_power_100 - df.power_100)\n",
    "\n",
    "# sizes of vectors\n",
    "U = diff_speed\n",
    "V = diff_power\n",
    "\n",
    "min_max_scaler_spd = preprocessing.MinMaxScaler(feature_range=(-2500, 2500))\n",
    "U = min_max_scaler_spd.fit_transform(U)\n",
    "# V = min_max_scaler.fit_transform(V)\n",
    "\n",
    "# # mask some 'bad' data, in your case you would have: data == 0\n",
    "# masked_V = np.ma.masked_where(V == 0, V)\n",
    "\n",
    "cmap = cm.get_cmap('bwr',3)    # 3 discrete colors\n",
    "\n",
    "\n",
    "Q = plt.quiver(x,y, U, V, df2.trend_no, cmap=cmap, units='xy', alpha=0.8, width=7)\n",
    "\n",
    "\n",
    "plt.xlim(-0.5,20)\n",
    "plt.ylim(-50, 2600)\n",
    "\n",
    "plt.title('Direction and magnitude of change in every region of power curve (scaled for clarity)', fontsize=30)\n",
    "plt.xlabel('wind speed [m/s]', fontsize=26)\n",
    "plt.ylabel('power [kW]', fontsize=26)\n",
    "plt.xticks(fontsize=22)\n",
    "plt.yticks(fontsize=22)\n",
    "\n",
    "cb = plt.colorbar(Q, ticks=[-1, 0, 1],cmap=cmap)\n",
    "cb.ax.tick_params( labelsize=20)\n",
    "cb.ax.set_yticklabels(['decreasing', 'steady', 'increasing'])  \n",
    "\n",
    "cb.set_label('trend',size=22, labelpad=-5, y=-0.02, rotation=0)\n",
    "\n",
    "plt.show()\n"
   ]
  },
  {
   "cell_type": "code",
   "execution_count": null,
   "metadata": {
    "collapsed": true
   },
   "outputs": [],
   "source": []
  }
 ],
 "metadata": {
  "kernelspec": {
   "display_name": "Python 3",
   "language": "python",
   "name": "python3"
  },
  "language_info": {
   "codemirror_mode": {
    "name": "ipython",
    "version": 3
   },
   "file_extension": ".py",
   "mimetype": "text/x-python",
   "name": "python",
   "nbconvert_exporter": "python",
   "pygments_lexer": "ipython3",
   "version": "3.5.1"
  }
 },
 "nbformat": 4,
 "nbformat_minor": 0
}
