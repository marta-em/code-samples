{
 "cells": [
  {
   "cell_type": "code",
   "execution_count": 1,
   "metadata": {
    "collapsed": false
   },
   "outputs": [
    {
     "name": "stdout",
     "output_type": "stream",
     "text": [
      "Wall time: 1min 1s\n"
     ]
    }
   ],
   "source": [
    "%%time\n",
    "\n",
    "import numpy as np\n",
    "import pandas as pd\n",
    "import matplotlib.pyplot as plt\n",
    "\n",
    "from sklearn.preprocessing import MinMaxScaler\n",
    "from scipy import spatial\n",
    "from datetime import timedelta\n",
    "import seaborn as sns\n",
    "\n",
    "\n",
    "#df2 = pd.read_csv('D:\\data from MnM Samdal raw\\Samdal_power_1s_no_outliers_after_only_window.csv',  parse_dates=[0], index_col = 0, low_memory=False)\n",
    "\n",
    "# upload file with outliers removed with window method in power and speed\n",
    "df = pd.read_csv('D:\\data from MnM Samdal raw\\Samdal_power_1s_no_outliers_after_window_30s_20perc_spd10_pow.csv',  parse_dates=[0], index_col = 0)\n",
    "df2 = df.copy(deep=True)"
   ]
  },
  {
   "cell_type": "code",
   "execution_count": null,
   "metadata": {
    "collapsed": true
   },
   "outputs": [],
   "source": [
    "new_index = pd.date_range('4/20/2011', '10/10/2011' , freq='1s')\n",
    "df = df2.reindex(new_index)"
   ]
  },
  {
   "cell_type": "code",
   "execution_count": 2,
   "metadata": {
    "collapsed": false
   },
   "outputs": [],
   "source": [
    "# plot to see power curve\n",
    "\n",
    "#plt.plot(outliers_spd.speed, marker='o', label = 'data points above the threshold wind speed (erroneous data)')\n",
    "\n",
    "\n",
    "# plt.scatter(df4.speed, df4.power, c='lightgrey', label='data before outlier removal')\n",
    "# plt.scatter(outliers_spd.speed, outliers_spd.power, c='r', s=50, label='detected outliers')\n",
    "\n",
    "#plt.scatter(df.speed, df.power, c='g', s=50, label='after outliers removal')\n",
    "plt.scatter(df.speed, df.power, c='g', s=50)\n",
    "\n",
    "\n",
    "\n",
    "plt.xlabel('wind speed [m/s]', fontsize = 26)\n",
    "plt.ylabel('power [kW]', fontsize = 26)\n",
    "plt.xlim(-1,)\n",
    "plt.ylim(-100,)\n",
    "plt.xticks(fontsize=20)\n",
    "plt.yticks(fontsize=20)\n",
    "plt.legend(fontsize=22)\n",
    "#plt.legend(fontsize=22, bbox_to_anchor=(0.6, 1.01), loc=3)\n",
    "\n",
    "# plt.title('Detected outliers, 1s interval, threshold = {:.0f} [m/s] (= {:.0%} of Vmax), window = {:.0f}s '.format(thresh_differ_spd, percent_spd, win_size) ,\n",
    "#          fontsize = 28)\n",
    "\n",
    "\n",
    "plt.show()"
   ]
  },
  {
   "cell_type": "code",
   "execution_count": null,
   "metadata": {
    "collapsed": true
   },
   "outputs": [],
   "source": [
    "# plot where points are between 15.5 and 14.5 kW\n",
    "\n",
    "\n",
    "\n"
   ]
  },
  {
   "cell_type": "code",
   "execution_count": 2,
   "metadata": {
    "collapsed": false
   },
   "outputs": [],
   "source": [
    "# remove theoretical outliers\n",
    "\n",
    "\n",
    "# zero power\n",
    "df.power = df.power.drop(df[(df.speed > 10) & (df.power >=0) & (df.power <=150)].index)\n",
    "\n",
    "# above cut-out speed\n",
    "df.power = df.power.drop(df[(df.speed > 24) ].index)\n",
    "\n",
    "#the 1500 line\n",
    "#df.power = df.power.drop(df[(df.power >1450) & (df.power <1550) & (df.speed<6) & (df.speed >12)].index)\n",
    "#df.power = df.power.drop(df[(df.power >1450) & (df.power <1550) & (df.speed<6) & (df.speed >12) ].index)\n",
    "\n",
    "\n",
    "# above the curve\n",
    "\n",
    "#define linear equation to remove points above that line\n",
    "\n",
    "\n",
    "# Calculate the slope between the two points\n",
    "\n",
    "x1 = 0.77\n",
    "y1 = 145\n",
    "\n",
    "# point defined from nominal WS and WP\n",
    "x2 = 5.15\n",
    "y2 = 1150\n",
    "\n",
    "m = (y2 - y1)/(x2 - x1)\n",
    "\n",
    "b = y2 - m*x2\n",
    "\n",
    "x  = df.speed\n",
    "\n",
    "y = m*x + b\n",
    "\n",
    "# TODO this method drops only values in column. NOT the whole row\n",
    "#df = df.drop(df[(df.power > y) & (df.power >=0) & (df.power <1)].index)\n",
    "df.power = df.power.drop(df[(df.power > y) & (df.power <1300)& (df.power >10)].index)\n",
    "\n",
    "\n",
    "# ##################\n",
    "\n",
    "# # points below the curve\n",
    "\n",
    "# #define linear equation to remove points above that line\n",
    "\n",
    "\n",
    "# # Calculate the slope between the two points\n",
    "#\n",
    "x11 = 8\n",
    "y11 = 0\n",
    "\n",
    "# point defined from nominal WS and WP\n",
    "x22 = 12.5\n",
    "y22 = 1900\n",
    "\n",
    "m1 = (y22 - y11)/(x22 - x11)\n",
    "\n",
    "b1 = y22 - m1*x22\n",
    "\n",
    "x  = df.speed\n",
    "\n",
    "y2 = m1*x + b1\n",
    "\n",
    "\n",
    "\n",
    "#df = df.drop(df[(df.power < y2) & (df.power<2300)].index)\n",
    "df.power = df.power.drop(df[(df.power < y2) & (df.power<2300)].index)\n",
    "\n",
    "\n",
    "######################\n",
    "\n",
    "\n",
    "##################\n",
    "\n",
    "# points aboe the upper part of the curve\n",
    "\n",
    "#define linear equation to remove points above that line\n",
    "\n",
    "\n",
    "# Calculate the slope between the two points\n",
    "#\n",
    "# x111 = 8.125\n",
    "# y111 = 2500\n",
    "\n",
    "x111 = 7\n",
    "y111 = 2500\n",
    "\n",
    "# point defined from nominal WS and WP\n",
    "# x222 = 6.37\n",
    "# y222 = 1520\n",
    "\n",
    "x222 = 0\n",
    "y222 = 0\n",
    "\n",
    "m11 = (y222 - y111)/(x222 - x111)\n",
    "\n",
    "b11 = y222 - m11*x222\n",
    "\n",
    "x  = df.speed\n",
    "\n",
    "y3 = m11*x + b11\n",
    "\n",
    "\n",
    "df.power = df.power.drop(df[(df.power > y3) & (df.power>1300)].index)\n",
    "\n",
    "\n",
    "\n"
   ]
  },
  {
   "cell_type": "code",
   "execution_count": 3,
   "metadata": {
    "collapsed": false
   },
   "outputs": [
    {
     "name": "stdout",
     "output_type": "stream",
     "text": [
      "Wall time: 10.8 s\n"
     ]
    }
   ],
   "source": [
    "%%time\n",
    "# remove the 'line' outliers\n",
    "\n",
    "# quick workaround\n",
    "df.power = df.power.drop(df[(df.power > 1500) & (df.power<1520) & (df.speed<8.4)].index)\n",
    "\n",
    "df.power = df.power.drop(df[(df.power<16) & (df.speed>3.5)].index)\n",
    "#df.power = df.power.drop(df[(df.power<23)].index)\n"
   ]
  },
  {
   "cell_type": "code",
   "execution_count": null,
   "metadata": {
    "collapsed": true
   },
   "outputs": [],
   "source": []
  },
  {
   "cell_type": "code",
   "execution_count": 12,
   "metadata": {
    "collapsed": false
   },
   "outputs": [
    {
     "name": "stderr",
     "output_type": "stream",
     "text": [
      "C:\\Anaconda3\\lib\\site-packages\\matplotlib\\axes\\_axes.py:519: UserWarning: No labelled objects found. Use label='...' kwarg on individual plots.\n",
      "  warnings.warn(\"No labelled objects found. \"\n"
     ]
    },
    {
     "name": "stdout",
     "output_type": "stream",
     "text": [
      "len wo outliers 10855329\n"
     ]
    }
   ],
   "source": [
    "######################\n",
    "\n",
    "plt.legend(fontsize=22)\n",
    "plt.xlabel('wind speed [m/s]', fontsize = 26)\n",
    "plt.ylabel('power [kW]', fontsize = 26)\n",
    "plt.xlim(-1,30)\n",
    "plt.ylim(-100,3000)\n",
    "plt.xticks(fontsize=20)\n",
    "plt.yticks(fontsize=20)\n",
    "plt.title('Power curve after removing outliers with \"window\" method and removing the remaining outliers', fontsize = 26)\n",
    "\n",
    "plt.scatter(df2.speed, df2.power, s=30, label='outliers', c='r')\n",
    "plt.scatter(df.speed, df.power, s=30, label='correct data', c='mediumblue')\n",
    "plt.legend(fontsize=22)\n",
    "\n",
    "print('len wo outliers', len(df))\n",
    "# print(len(df.power))\n",
    "# print(len(df.speed))\n",
    "#\n",
    "# df.power1 = df.power1.interpolate()\n",
    "# df.power2 = df.power2.interpolate()\n",
    "plt.show()\n",
    "\n",
    "#df.to_csv('Samdal_power_1s_wo_outliers.csv')\n",
    "\n"
   ]
  },
  {
   "cell_type": "code",
   "execution_count": 11,
   "metadata": {
    "collapsed": false
   },
   "outputs": [
    {
     "name": "stdout",
     "output_type": "stream",
     "text": [
      "0.07531803043463722\n",
      "10037727\n",
      "10855329\n"
     ]
    }
   ],
   "source": [
    "print((len(df2.power.dropna())-len(df.power.dropna()))/len(df2.power.dropna()))\n",
    "print(len(df.power.dropna()))\n",
    "print(len(df2.power.dropna()))"
   ]
  },
  {
   "cell_type": "code",
   "execution_count": 17,
   "metadata": {
    "collapsed": true
   },
   "outputs": [],
   "source": [
    "# save the file for further use\n",
    "\n",
    "df.to_csv('D:\\data from MnM Samdal raw\\Samdal_power_1s_no_outliers_after_window_and_theoret.csv')"
   ]
  },
  {
   "cell_type": "code",
   "execution_count": 19,
   "metadata": {
    "collapsed": true
   },
   "outputs": [],
   "source": [
    "df1 = df.resample('1min').mean()\n",
    "df3 = df.resample('10min').mean()\n",
    "df5 = df.resample('30min').mean()\n",
    "df6 = df.resample('60min').mean()\n",
    "\n",
    "\n",
    "df1.to_csv('D:\\data from MnM Samdal raw\\Samdal_power_1min_new_wo.csv')\n",
    "df3.to_csv('D:\\data from MnM Samdal raw\\Samdal_power_10min_new_wo.csv')\n",
    "df5.to_csv('D:\\data from MnM Samdal raw\\Samdal_power_30min_new_wo.csv')\n",
    "df6.to_csv('D:\\data from MnM Samdal raw\\Samdal_power_1h_new_wo.csv')\n",
    "\n"
   ]
  },
  {
   "cell_type": "code",
   "execution_count": null,
   "metadata": {
    "collapsed": true
   },
   "outputs": [],
   "source": [
    "# calculate differences for each file and save to csv \n",
    "\n",
    "next_powers = df.power[1:].values \n",
    "\n",
    "df['next_power']=  next_powers.append(0)    \n",
    "\n",
    "\n",
    "\n",
    "\n",
    "df['difference'] = df['next_power'] - df['power']\n",
    "\n",
    "######################\n",
    "\n",
    "# merge them together into a fourth column that indicates what you want: \n",
    "# the column is True when the row is before, on, or after a nan value.\n",
    "\n",
    "missing = df.difference.isnull()\n",
    "df['is_nan'] = missing\n",
    "df['before_nan'] = np.append(missing[1:].values, False)\n",
    "df['after_nan'] = np.insert(missing[:-1].values, 0, False)\n",
    "\n",
    " # a column which says 'True' to rows which should be removed\n",
    "df['around_nan'] = df.is_nan | df.before_nan | df.after_nan  \n",
    "\n",
    "#mark('looped')\n",
    "\n",
    "mark('time-inefficient loop done')\n",
    "\n",
    "# remove False values from the df.around_nan\n",
    "\n",
    "def take_values():\n",
    "    for x in range(len(df.around_nan)):\n",
    "        \n",
    "        if df.around_nan.ix[x] == False:\n",
    "            yield df.difference.ix[x]\n",
    "        else:\n",
    "            yield np.nan\n",
    "\n",
    "#values = take_values()            \n",
    "            \n",
    "list_cleaned_values = list(take_values())\n",
    "df['diff_cleaned'] =  list_cleaned_values  \n",
    "\n",
    "df.to_csv('D:\\data from MnM Samdal raw\\Samdal_power_1s_differences_sdfs.csv')"
   ]
  },
  {
   "cell_type": "code",
   "execution_count": null,
   "metadata": {
    "collapsed": true
   },
   "outputs": [],
   "source": []
  },
  {
   "cell_type": "code",
   "execution_count": null,
   "metadata": {
    "collapsed": true
   },
   "outputs": [],
   "source": []
  },
  {
   "cell_type": "code",
   "execution_count": null,
   "metadata": {
    "collapsed": true
   },
   "outputs": [],
   "source": []
  }
 ],
 "metadata": {
  "kernelspec": {
   "display_name": "Python 3",
   "language": "python",
   "name": "python3"
  },
  "language_info": {
   "codemirror_mode": {
    "name": "ipython",
    "version": 3
   },
   "file_extension": ".py",
   "mimetype": "text/x-python",
   "name": "python",
   "nbconvert_exporter": "python",
   "pygments_lexer": "ipython3",
   "version": "3.5.1"
  }
 },
 "nbformat": 4,
 "nbformat_minor": 0
}
