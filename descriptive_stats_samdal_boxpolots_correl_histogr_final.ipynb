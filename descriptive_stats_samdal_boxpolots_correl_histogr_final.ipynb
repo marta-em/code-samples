{
 "cells": [
  {
   "cell_type": "code",
   "execution_count": 6,
   "metadata": {
    "collapsed": false
   },
   "outputs": [],
   "source": [
    "from tsfresh.examples import load_robot_execution_failures\n",
    "import tsfresh\n",
    "from tsfresh import extract_features\n",
    "from tsfresh import select_features\n",
    "from tsfresh.utilities.dataframe_functions import impute\n",
    "from tsfresh import extract_relevant_features\n",
    "import numpy as np\n",
    "import pandas as pd\n",
    "import matplotlib.pyplot as plt\n",
    "from sklearn.preprocessing import MinMaxScaler\n",
    "from scipy import spatial\n",
    "from datetime import timedelta\n",
    "import seaborn as sns\n",
    "sns.set_style(\"whitegrid\")\n",
    "from tsfresh import extract_features\n",
    "\n",
    "df = pd.read_csv('D:\\data from MnM Samdal raw\\Samdal_power_1min_no_outliers.csv',  parse_dates=[0])\n"
   ]
  },
  {
   "cell_type": "code",
   "execution_count": null,
   "metadata": {
    "collapsed": true
   },
   "outputs": [],
   "source": [
    "df.precipitation = df.precipitation.fillna(value=0)\n",
    "df.power = df.power.interpolate(method='linear', limit = 1 )\n",
    "df.speed = df.speed.interpolate(method='linear', limit = 1 )"
   ]
  },
  {
   "cell_type": "code",
   "execution_count": null,
   "metadata": {
    "collapsed": true
   },
   "outputs": [],
   "source": [
    "df.describe()\n",
    "df.corr()\n",
    "df.cov()"
   ]
  },
  {
   "cell_type": "code",
   "execution_count": 7,
   "metadata": {
    "collapsed": true
   },
   "outputs": [],
   "source": [
    "df = df.rename( columns={\"Unnamed: 0\": \"time\"})\n",
    "df = df.rename( columns={\"speed\": \"wind_speed\"})\n",
    "\n",
    "# discard April \n",
    "df = df.drop(df[df.time.dt.month==4].index)\n",
    "\n",
    "df['DayOfWeekNum'] = df['time'].dt.dayofweek\n",
    "df['DayOfWeek'] = df['time'].dt.weekday_name\n",
    "df['MonthDayNum'] = df['time'].dt.day\n",
    "df['HourOfDay'] = df['time'].dt.hour\n",
    "df['Month'] = df['time'].dt.month"
   ]
  },
  {
   "cell_type": "code",
   "execution_count": null,
   "metadata": {
    "collapsed": true
   },
   "outputs": [],
   "source": [
    "df = df.dropna()"
   ]
  },
  {
   "cell_type": "code",
   "execution_count": 4,
   "metadata": {
    "collapsed": false
   },
   "outputs": [],
   "source": [
    "# power curve scatterplot with histograms  \n",
    "\n",
    "del df['time']\n",
    "\n",
    "sns.set(font_scale=5)\n",
    "sns.set(style=\"white\", color_codes=True)\n",
    "sns.set_context(\"poster\",font_scale=1.5)\n",
    "\n",
    "g = sns.jointplot(x=\"wind_speed\", y=\"power\", data=df)\n",
    "g.set_axis_labels(\"speed [m/s]\", \"power [kW]\",  fontsize=26)\n",
    "\n",
    "plt.show()"
   ]
  },
  {
   "cell_type": "code",
   "execution_count": 10,
   "metadata": {
    "collapsed": false
   },
   "outputs": [],
   "source": [
    "# power curve heatmap with histograms  \n",
    "\n",
    "# remove small values of power\n",
    "\n",
    "df = df.drop(df[df.power<20].index)\n",
    "\n",
    "# Spread , Shape\n",
    "# variance , std dev\n",
    "#skewness , kurtosis\n",
    "sns.set(font_scale=5)\n",
    "sns.set(style=\"white\", color_codes=True)\n",
    "sns.set_context(\"poster\",font_scale=1.5)\n",
    "\n",
    "g = sns.jointplot(x=\"wind_speed\", y=\"power\", data=df, kind=\"hex\")\n",
    "g.set_axis_labels(\"speed [m/s]\", \"power [kW]\",  fontsize=26)\n",
    "\n",
    "plt.show()"
   ]
  },
  {
   "cell_type": "code",
   "execution_count": 4,
   "metadata": {
    "collapsed": false
   },
   "outputs": [
    {
     "ename": "KeyError",
     "evalue": "'Column not found: wind_speed_10m'",
     "output_type": "error",
     "traceback": [
      "\u001b[0;31m---------------------------------------------------------------------------\u001b[0m",
      "\u001b[0;31mKeyError\u001b[0m                                  Traceback (most recent call last)",
      "\u001b[0;32m<ipython-input-4-b5bb614f55b6>\u001b[0m in \u001b[0;36m<module>\u001b[0;34m()\u001b[0m\n\u001b[1;32m      3\u001b[0m \u001b[0mmeanpointprops\u001b[0m \u001b[1;33m=\u001b[0m \u001b[0mdict\u001b[0m\u001b[1;33m(\u001b[0m\u001b[0mmarker\u001b[0m\u001b[1;33m=\u001b[0m\u001b[1;34m'D'\u001b[0m\u001b[1;33m,\u001b[0m \u001b[0mmarkeredgecolor\u001b[0m\u001b[1;33m=\u001b[0m\u001b[1;34m'black'\u001b[0m\u001b[1;33m,\u001b[0m   \u001b[0mmarkerfacecolor\u001b[0m\u001b[1;33m=\u001b[0m\u001b[1;34m'green'\u001b[0m\u001b[1;33m)\u001b[0m\u001b[1;33m\u001b[0m\u001b[0m\n\u001b[1;32m      4\u001b[0m \u001b[1;33m\u001b[0m\u001b[0m\n\u001b[0;32m----> 5\u001b[0;31m \u001b[0mdf\u001b[0m\u001b[1;33m.\u001b[0m\u001b[0mboxplot\u001b[0m\u001b[1;33m(\u001b[0m\u001b[0mcolumn\u001b[0m \u001b[1;33m=\u001b[0m \u001b[1;33m[\u001b[0m\u001b[1;34m'wind_speed'\u001b[0m\u001b[1;33m,\u001b[0m \u001b[1;34m'wind_speed_10m'\u001b[0m\u001b[1;33m]\u001b[0m\u001b[1;33m,\u001b[0m \u001b[0mby\u001b[0m \u001b[1;33m=\u001b[0m \u001b[1;34m'Month'\u001b[0m\u001b[1;33m,\u001b[0m \u001b[0mshowmeans\u001b[0m\u001b[1;33m=\u001b[0m\u001b[1;32mTrue\u001b[0m\u001b[1;33m,\u001b[0m \u001b[0mmeanprops\u001b[0m\u001b[1;33m=\u001b[0m\u001b[0mmeanpointprops\u001b[0m\u001b[1;33m,\u001b[0m \u001b[0mfontsize\u001b[0m\u001b[1;33m=\u001b[0m\u001b[1;36m18\u001b[0m\u001b[1;33m)\u001b[0m\u001b[1;33m\u001b[0m\u001b[0m\n\u001b[0m\u001b[1;32m      6\u001b[0m \u001b[1;33m\u001b[0m\u001b[0m\n\u001b[1;32m      7\u001b[0m \u001b[0mplt\u001b[0m\u001b[1;33m.\u001b[0m\u001b[0mylabel\u001b[0m\u001b[1;33m(\u001b[0m\u001b[1;34m'wind speed [m/s]'\u001b[0m\u001b[1;33m,\u001b[0m \u001b[0mfontsize\u001b[0m\u001b[1;33m=\u001b[0m\u001b[1;36m26\u001b[0m\u001b[1;33m)\u001b[0m\u001b[1;33m\u001b[0m\u001b[0m\n",
      "\u001b[0;32mC:\\Anaconda3\\lib\\site-packages\\pandas\\core\\frame.py\u001b[0m in \u001b[0;36mboxplot\u001b[0;34m(self, column, by, ax, fontsize, rot, grid, figsize, layout, return_type, **kwds)\u001b[0m\n\u001b[1;32m   5758\u001b[0m     ax = plots.boxplot(self, column=column, by=by, ax=ax, fontsize=fontsize,\n\u001b[1;32m   5759\u001b[0m                        \u001b[0mgrid\u001b[0m\u001b[1;33m=\u001b[0m\u001b[0mgrid\u001b[0m\u001b[1;33m,\u001b[0m \u001b[0mrot\u001b[0m\u001b[1;33m=\u001b[0m\u001b[0mrot\u001b[0m\u001b[1;33m,\u001b[0m \u001b[0mfigsize\u001b[0m\u001b[1;33m=\u001b[0m\u001b[0mfigsize\u001b[0m\u001b[1;33m,\u001b[0m \u001b[0mlayout\u001b[0m\u001b[1;33m=\u001b[0m\u001b[0mlayout\u001b[0m\u001b[1;33m,\u001b[0m\u001b[1;33m\u001b[0m\u001b[0m\n\u001b[0;32m-> 5760\u001b[0;31m                        return_type=return_type, **kwds)\n\u001b[0m\u001b[1;32m   5761\u001b[0m     \u001b[0mplt\u001b[0m\u001b[1;33m.\u001b[0m\u001b[0mdraw_if_interactive\u001b[0m\u001b[1;33m(\u001b[0m\u001b[1;33m)\u001b[0m\u001b[1;33m\u001b[0m\u001b[0m\n\u001b[1;32m   5762\u001b[0m     \u001b[1;32mreturn\u001b[0m \u001b[0max\u001b[0m\u001b[1;33m\u001b[0m\u001b[0m\n",
      "\u001b[0;32mC:\\Anaconda3\\lib\\site-packages\\pandas\\tools\\plotting.py\u001b[0m in \u001b[0;36mboxplot\u001b[0;34m(data, column, by, ax, fontsize, rot, grid, figsize, layout, return_type, **kwds)\u001b[0m\n\u001b[1;32m   2778\u001b[0m                                          \u001b[0mby\u001b[0m\u001b[1;33m=\u001b[0m\u001b[0mby\u001b[0m\u001b[1;33m,\u001b[0m \u001b[0mgrid\u001b[0m\u001b[1;33m=\u001b[0m\u001b[0mgrid\u001b[0m\u001b[1;33m,\u001b[0m \u001b[0mfigsize\u001b[0m\u001b[1;33m=\u001b[0m\u001b[0mfigsize\u001b[0m\u001b[1;33m,\u001b[0m\u001b[1;33m\u001b[0m\u001b[0m\n\u001b[1;32m   2779\u001b[0m                                          \u001b[0max\u001b[0m\u001b[1;33m=\u001b[0m\u001b[0max\u001b[0m\u001b[1;33m,\u001b[0m \u001b[0mlayout\u001b[0m\u001b[1;33m=\u001b[0m\u001b[0mlayout\u001b[0m\u001b[1;33m,\u001b[0m\u001b[1;33m\u001b[0m\u001b[0m\n\u001b[0;32m-> 2780\u001b[0;31m                                          return_type=return_type)\n\u001b[0m\u001b[1;32m   2781\u001b[0m     \u001b[1;32melse\u001b[0m\u001b[1;33m:\u001b[0m\u001b[1;33m\u001b[0m\u001b[0m\n\u001b[1;32m   2782\u001b[0m         \u001b[1;32mif\u001b[0m \u001b[0mreturn_type\u001b[0m \u001b[1;32mis\u001b[0m \u001b[1;32mNone\u001b[0m\u001b[1;33m:\u001b[0m\u001b[1;33m\u001b[0m\u001b[0m\n",
      "\u001b[0;32mC:\\Anaconda3\\lib\\site-packages\\pandas\\tools\\plotting.py\u001b[0m in \u001b[0;36m_grouped_plot_by_column\u001b[0;34m(plotf, data, columns, by, numeric_only, grid, figsize, ax, layout, return_type, **kwargs)\u001b[0m\n\u001b[1;32m   3180\u001b[0m     \u001b[1;32mfor\u001b[0m \u001b[0mi\u001b[0m\u001b[1;33m,\u001b[0m \u001b[0mcol\u001b[0m \u001b[1;32min\u001b[0m \u001b[0menumerate\u001b[0m\u001b[1;33m(\u001b[0m\u001b[0mcolumns\u001b[0m\u001b[1;33m)\u001b[0m\u001b[1;33m:\u001b[0m\u001b[1;33m\u001b[0m\u001b[0m\n\u001b[1;32m   3181\u001b[0m         \u001b[0max\u001b[0m \u001b[1;33m=\u001b[0m \u001b[0m_axes\u001b[0m\u001b[1;33m[\u001b[0m\u001b[0mi\u001b[0m\u001b[1;33m]\u001b[0m\u001b[1;33m\u001b[0m\u001b[0m\n\u001b[0;32m-> 3182\u001b[0;31m         \u001b[0mgp_col\u001b[0m \u001b[1;33m=\u001b[0m \u001b[0mgrouped\u001b[0m\u001b[1;33m[\u001b[0m\u001b[0mcol\u001b[0m\u001b[1;33m]\u001b[0m\u001b[1;33m\u001b[0m\u001b[0m\n\u001b[0m\u001b[1;32m   3183\u001b[0m         \u001b[0mkeys\u001b[0m\u001b[1;33m,\u001b[0m \u001b[0mvalues\u001b[0m \u001b[1;33m=\u001b[0m \u001b[0mzip\u001b[0m\u001b[1;33m(\u001b[0m\u001b[1;33m*\u001b[0m\u001b[0mgp_col\u001b[0m\u001b[1;33m)\u001b[0m\u001b[1;33m\u001b[0m\u001b[0m\n\u001b[1;32m   3184\u001b[0m         \u001b[0mre_plotf\u001b[0m \u001b[1;33m=\u001b[0m \u001b[0mplotf\u001b[0m\u001b[1;33m(\u001b[0m\u001b[0mkeys\u001b[0m\u001b[1;33m,\u001b[0m \u001b[0mvalues\u001b[0m\u001b[1;33m,\u001b[0m \u001b[0max\u001b[0m\u001b[1;33m,\u001b[0m \u001b[1;33m**\u001b[0m\u001b[0mkwargs\u001b[0m\u001b[1;33m)\u001b[0m\u001b[1;33m\u001b[0m\u001b[0m\n",
      "\u001b[0;32mC:\\Anaconda3\\lib\\site-packages\\pandas\\core\\base.py\u001b[0m in \u001b[0;36m__getitem__\u001b[0;34m(self, key)\u001b[0m\n\u001b[1;32m    345\u001b[0m         \u001b[1;32melse\u001b[0m\u001b[1;33m:\u001b[0m\u001b[1;33m\u001b[0m\u001b[0m\n\u001b[1;32m    346\u001b[0m             \u001b[1;32mif\u001b[0m \u001b[0mkey\u001b[0m \u001b[1;32mnot\u001b[0m \u001b[1;32min\u001b[0m \u001b[0mself\u001b[0m\u001b[1;33m.\u001b[0m\u001b[0mobj\u001b[0m\u001b[1;33m:\u001b[0m\u001b[1;33m\u001b[0m\u001b[0m\n\u001b[0;32m--> 347\u001b[0;31m                 \u001b[1;32mraise\u001b[0m \u001b[0mKeyError\u001b[0m\u001b[1;33m(\u001b[0m\u001b[1;34m\"Column not found: %s\"\u001b[0m \u001b[1;33m%\u001b[0m \u001b[0mkey\u001b[0m\u001b[1;33m)\u001b[0m\u001b[1;33m\u001b[0m\u001b[0m\n\u001b[0m\u001b[1;32m    348\u001b[0m             \u001b[1;32mreturn\u001b[0m \u001b[0mself\u001b[0m\u001b[1;33m.\u001b[0m\u001b[0m_gotitem\u001b[0m\u001b[1;33m(\u001b[0m\u001b[0mkey\u001b[0m\u001b[1;33m,\u001b[0m \u001b[0mndim\u001b[0m\u001b[1;33m=\u001b[0m\u001b[1;36m1\u001b[0m\u001b[1;33m)\u001b[0m\u001b[1;33m\u001b[0m\u001b[0m\n\u001b[1;32m    349\u001b[0m \u001b[1;33m\u001b[0m\u001b[0m\n",
      "\u001b[0;31mKeyError\u001b[0m: 'Column not found: wind_speed_10m'"
     ]
    }
   ],
   "source": [
    "#monthly each month\n",
    "\n",
    "meanpointprops = dict(marker='D', markeredgecolor='black',   markerfacecolor='green')\n",
    "\n",
    "df.boxplot(column = ['wind_speed', 'wind_speed_10m'], by = 'Month', showmeans=True, meanprops=meanpointprops, fontsize=18)\n",
    "\n",
    "plt.ylabel('wind speed [m/s]', fontsize=26)\n",
    "plt.yticks(fontsize=26)\n",
    "labels_len = [1, 2, 3, 4, 5,6]\n",
    "labels = ['May', 'Jun', 'Jul', 'Aug', 'Sep', 'Oct']\n",
    "plt.xticks(labels_len, labels)\n",
    "\n",
    "df.boxplot(  column = ['power'], by = 'Month',showmeans=True, meanprops=meanpointprops, fontsize=26)\n",
    "plt.ylabel('power [kW]', fontsize=26)\n",
    "plt.yticks(fontsize=26)\n",
    "\n",
    "labels_len = [1, 2, 3, 4, 5,6]\n",
    "labels = ['May', 'Jun', 'Jul', 'Aug', 'Sep', 'Oct']\n",
    "plt.xticks(labels_len, labels)\n",
    "plt.xlabel('month', fontsize=26)\n",
    "\n",
    "plt.show()"
   ]
  },
  {
   "cell_type": "code",
   "execution_count": 9,
   "metadata": {
    "collapsed": false
   },
   "outputs": [
    {
     "ename": "KeyError",
     "evalue": "'Column not found: wind_speed_10m'",
     "output_type": "error",
     "traceback": [
      "\u001b[0;31m---------------------------------------------------------------------------\u001b[0m",
      "\u001b[0;31mKeyError\u001b[0m                                  Traceback (most recent call last)",
      "\u001b[0;32m<ipython-input-9-dd2e9a5b689b>\u001b[0m in \u001b[0;36m<module>\u001b[0;34m()\u001b[0m\n\u001b[1;32m      6\u001b[0m \u001b[1;31m# power speed   temperature     precipitation   direction       speed10 pressure        humidity\u001b[0m\u001b[1;33m\u001b[0m\u001b[1;33m\u001b[0m\u001b[0m\n\u001b[1;32m      7\u001b[0m \u001b[1;33m\u001b[0m\u001b[0m\n\u001b[0;32m----> 8\u001b[0;31m \u001b[0mdf\u001b[0m\u001b[1;33m.\u001b[0m\u001b[0mboxplot\u001b[0m\u001b[1;33m(\u001b[0m\u001b[0mcolumn\u001b[0m \u001b[1;33m=\u001b[0m \u001b[1;33m[\u001b[0m\u001b[1;34m'wind_speed'\u001b[0m\u001b[1;33m,\u001b[0m \u001b[1;34m'wind_speed_10m'\u001b[0m\u001b[1;33m]\u001b[0m\u001b[1;33m,\u001b[0m \u001b[0mby\u001b[0m \u001b[1;33m=\u001b[0m \u001b[1;34m'HourOfDay'\u001b[0m\u001b[1;33m,\u001b[0m\u001b[0mshowmeans\u001b[0m\u001b[1;33m=\u001b[0m\u001b[1;32mTrue\u001b[0m\u001b[1;33m,\u001b[0m \u001b[0mmeanprops\u001b[0m\u001b[1;33m=\u001b[0m\u001b[0mmeanpointprops\u001b[0m\u001b[1;33m,\u001b[0m \u001b[0mfontsize\u001b[0m\u001b[1;33m=\u001b[0m\u001b[1;36m20\u001b[0m\u001b[1;33m)\u001b[0m\u001b[1;33m\u001b[0m\u001b[0m\n\u001b[0m\u001b[1;32m      9\u001b[0m \u001b[0mplt\u001b[0m\u001b[1;33m.\u001b[0m\u001b[0mylabel\u001b[0m\u001b[1;33m(\u001b[0m\u001b[1;34m'wind speed [m/s]'\u001b[0m\u001b[1;33m,\u001b[0m \u001b[0mfontsize\u001b[0m\u001b[1;33m=\u001b[0m\u001b[1;36m26\u001b[0m\u001b[1;33m)\u001b[0m\u001b[1;33m\u001b[0m\u001b[0m\n\u001b[1;32m     10\u001b[0m \u001b[0mplt\u001b[0m\u001b[1;33m.\u001b[0m\u001b[0myticks\u001b[0m\u001b[1;33m(\u001b[0m\u001b[0mfontsize\u001b[0m\u001b[1;33m=\u001b[0m\u001b[1;36m26\u001b[0m\u001b[1;33m)\u001b[0m\u001b[1;33m\u001b[0m\u001b[0m\n",
      "\u001b[0;32mC:\\Anaconda3\\lib\\site-packages\\pandas\\core\\frame.py\u001b[0m in \u001b[0;36mboxplot\u001b[0;34m(self, column, by, ax, fontsize, rot, grid, figsize, layout, return_type, **kwds)\u001b[0m\n\u001b[1;32m   5758\u001b[0m     ax = plots.boxplot(self, column=column, by=by, ax=ax, fontsize=fontsize,\n\u001b[1;32m   5759\u001b[0m                        \u001b[0mgrid\u001b[0m\u001b[1;33m=\u001b[0m\u001b[0mgrid\u001b[0m\u001b[1;33m,\u001b[0m \u001b[0mrot\u001b[0m\u001b[1;33m=\u001b[0m\u001b[0mrot\u001b[0m\u001b[1;33m,\u001b[0m \u001b[0mfigsize\u001b[0m\u001b[1;33m=\u001b[0m\u001b[0mfigsize\u001b[0m\u001b[1;33m,\u001b[0m \u001b[0mlayout\u001b[0m\u001b[1;33m=\u001b[0m\u001b[0mlayout\u001b[0m\u001b[1;33m,\u001b[0m\u001b[1;33m\u001b[0m\u001b[0m\n\u001b[0;32m-> 5760\u001b[0;31m                        return_type=return_type, **kwds)\n\u001b[0m\u001b[1;32m   5761\u001b[0m     \u001b[0mplt\u001b[0m\u001b[1;33m.\u001b[0m\u001b[0mdraw_if_interactive\u001b[0m\u001b[1;33m(\u001b[0m\u001b[1;33m)\u001b[0m\u001b[1;33m\u001b[0m\u001b[0m\n\u001b[1;32m   5762\u001b[0m     \u001b[1;32mreturn\u001b[0m \u001b[0max\u001b[0m\u001b[1;33m\u001b[0m\u001b[0m\n",
      "\u001b[0;32mC:\\Anaconda3\\lib\\site-packages\\pandas\\tools\\plotting.py\u001b[0m in \u001b[0;36mboxplot\u001b[0;34m(data, column, by, ax, fontsize, rot, grid, figsize, layout, return_type, **kwds)\u001b[0m\n\u001b[1;32m   2778\u001b[0m                                          \u001b[0mby\u001b[0m\u001b[1;33m=\u001b[0m\u001b[0mby\u001b[0m\u001b[1;33m,\u001b[0m \u001b[0mgrid\u001b[0m\u001b[1;33m=\u001b[0m\u001b[0mgrid\u001b[0m\u001b[1;33m,\u001b[0m \u001b[0mfigsize\u001b[0m\u001b[1;33m=\u001b[0m\u001b[0mfigsize\u001b[0m\u001b[1;33m,\u001b[0m\u001b[1;33m\u001b[0m\u001b[0m\n\u001b[1;32m   2779\u001b[0m                                          \u001b[0max\u001b[0m\u001b[1;33m=\u001b[0m\u001b[0max\u001b[0m\u001b[1;33m,\u001b[0m \u001b[0mlayout\u001b[0m\u001b[1;33m=\u001b[0m\u001b[0mlayout\u001b[0m\u001b[1;33m,\u001b[0m\u001b[1;33m\u001b[0m\u001b[0m\n\u001b[0;32m-> 2780\u001b[0;31m                                          return_type=return_type)\n\u001b[0m\u001b[1;32m   2781\u001b[0m     \u001b[1;32melse\u001b[0m\u001b[1;33m:\u001b[0m\u001b[1;33m\u001b[0m\u001b[0m\n\u001b[1;32m   2782\u001b[0m         \u001b[1;32mif\u001b[0m \u001b[0mreturn_type\u001b[0m \u001b[1;32mis\u001b[0m \u001b[1;32mNone\u001b[0m\u001b[1;33m:\u001b[0m\u001b[1;33m\u001b[0m\u001b[0m\n",
      "\u001b[0;32mC:\\Anaconda3\\lib\\site-packages\\pandas\\tools\\plotting.py\u001b[0m in \u001b[0;36m_grouped_plot_by_column\u001b[0;34m(plotf, data, columns, by, numeric_only, grid, figsize, ax, layout, return_type, **kwargs)\u001b[0m\n\u001b[1;32m   3180\u001b[0m     \u001b[1;32mfor\u001b[0m \u001b[0mi\u001b[0m\u001b[1;33m,\u001b[0m \u001b[0mcol\u001b[0m \u001b[1;32min\u001b[0m \u001b[0menumerate\u001b[0m\u001b[1;33m(\u001b[0m\u001b[0mcolumns\u001b[0m\u001b[1;33m)\u001b[0m\u001b[1;33m:\u001b[0m\u001b[1;33m\u001b[0m\u001b[0m\n\u001b[1;32m   3181\u001b[0m         \u001b[0max\u001b[0m \u001b[1;33m=\u001b[0m \u001b[0m_axes\u001b[0m\u001b[1;33m[\u001b[0m\u001b[0mi\u001b[0m\u001b[1;33m]\u001b[0m\u001b[1;33m\u001b[0m\u001b[0m\n\u001b[0;32m-> 3182\u001b[0;31m         \u001b[0mgp_col\u001b[0m \u001b[1;33m=\u001b[0m \u001b[0mgrouped\u001b[0m\u001b[1;33m[\u001b[0m\u001b[0mcol\u001b[0m\u001b[1;33m]\u001b[0m\u001b[1;33m\u001b[0m\u001b[0m\n\u001b[0m\u001b[1;32m   3183\u001b[0m         \u001b[0mkeys\u001b[0m\u001b[1;33m,\u001b[0m \u001b[0mvalues\u001b[0m \u001b[1;33m=\u001b[0m \u001b[0mzip\u001b[0m\u001b[1;33m(\u001b[0m\u001b[1;33m*\u001b[0m\u001b[0mgp_col\u001b[0m\u001b[1;33m)\u001b[0m\u001b[1;33m\u001b[0m\u001b[0m\n\u001b[1;32m   3184\u001b[0m         \u001b[0mre_plotf\u001b[0m \u001b[1;33m=\u001b[0m \u001b[0mplotf\u001b[0m\u001b[1;33m(\u001b[0m\u001b[0mkeys\u001b[0m\u001b[1;33m,\u001b[0m \u001b[0mvalues\u001b[0m\u001b[1;33m,\u001b[0m \u001b[0max\u001b[0m\u001b[1;33m,\u001b[0m \u001b[1;33m**\u001b[0m\u001b[0mkwargs\u001b[0m\u001b[1;33m)\u001b[0m\u001b[1;33m\u001b[0m\u001b[0m\n",
      "\u001b[0;32mC:\\Anaconda3\\lib\\site-packages\\pandas\\core\\base.py\u001b[0m in \u001b[0;36m__getitem__\u001b[0;34m(self, key)\u001b[0m\n\u001b[1;32m    345\u001b[0m         \u001b[1;32melse\u001b[0m\u001b[1;33m:\u001b[0m\u001b[1;33m\u001b[0m\u001b[0m\n\u001b[1;32m    346\u001b[0m             \u001b[1;32mif\u001b[0m \u001b[0mkey\u001b[0m \u001b[1;32mnot\u001b[0m \u001b[1;32min\u001b[0m \u001b[0mself\u001b[0m\u001b[1;33m.\u001b[0m\u001b[0mobj\u001b[0m\u001b[1;33m:\u001b[0m\u001b[1;33m\u001b[0m\u001b[0m\n\u001b[0;32m--> 347\u001b[0;31m                 \u001b[1;32mraise\u001b[0m \u001b[0mKeyError\u001b[0m\u001b[1;33m(\u001b[0m\u001b[1;34m\"Column not found: %s\"\u001b[0m \u001b[1;33m%\u001b[0m \u001b[0mkey\u001b[0m\u001b[1;33m)\u001b[0m\u001b[1;33m\u001b[0m\u001b[0m\n\u001b[0m\u001b[1;32m    348\u001b[0m             \u001b[1;32mreturn\u001b[0m \u001b[0mself\u001b[0m\u001b[1;33m.\u001b[0m\u001b[0m_gotitem\u001b[0m\u001b[1;33m(\u001b[0m\u001b[0mkey\u001b[0m\u001b[1;33m,\u001b[0m \u001b[0mndim\u001b[0m\u001b[1;33m=\u001b[0m\u001b[1;36m1\u001b[0m\u001b[1;33m)\u001b[0m\u001b[1;33m\u001b[0m\u001b[0m\n\u001b[1;32m    349\u001b[0m \u001b[1;33m\u001b[0m\u001b[0m\n",
      "\u001b[0;31mKeyError\u001b[0m: 'Column not found: wind_speed_10m'"
     ]
    }
   ],
   "source": [
    "# Daily\n",
    "# Central tendency: Mean, Median, Mode\n",
    "# Dispersion: Range , Quantiles of the data-set\n",
    "\n",
    "df.boxplot(column = ['wind_speed', 'wind_speed_10m'], by = 'HourOfDay',showmeans=True, meanprops=meanpointprops, fontsize=20)\n",
    "plt.ylabel('wind speed [m/s]', fontsize=26)\n",
    "plt.yticks(fontsize=26)\n",
    "plt.xlabel('hour', fontsize=26)\n",
    "\n",
    "df.boxplot(  column = ['power'], by = 'HourOfDay', showmeans=True, meanprops=meanpointprops,fontsize=26)\n",
    "plt.ylabel('power [kW]', fontsize=26)\n",
    "plt.yticks(fontsize=26)\n",
    "plt.xlabel('hour', fontsize=26)\n",
    "\n",
    "plt.show()"
   ]
  },
  {
   "cell_type": "code",
   "execution_count": 4,
   "metadata": {
    "collapsed": false
   },
   "outputs": [],
   "source": [
    "# multiple power curve plots\n",
    "\n",
    "fig, axarr = plt.subplots(2, 3, sharex=True, sharey=True)\n",
    "\n",
    "axarr[0, 0].scatter(df.wind_speed.loc[df.time.dt.month==5], df.power.loc[df.time.dt.month==5], alpha=0.7, c='g')     #c='cyan',\n",
    "axarr[0, 0].set_title('May', fontsize=14)\n",
    "axarr[0, 0].set_ylabel('power [kW]', fontsize=26)\n",
    "axarr[0, 0].set_xlim(-0.5,20)\n",
    "axarr[0, 0].set_ylim(-150,3000)\n",
    "\n",
    "axarr[0, 1].scatter(df.wind_speed.loc[df.time.dt.month==6], df.power.loc[df.time.dt.month==6], alpha=0.7, c='orangered') #c='teal',\n",
    "axarr[0, 1].set_title('June', fontsize=14)\n",
    "\n",
    "axarr[0, 2].scatter(df.wind_speed.loc[df.time.dt.month==7], df.power.loc[df.time.dt.month==7], alpha=0.7, c='orangered') #c='teal',\n",
    "axarr[0, 2].set_title('July', fontsize=14)\n",
    "\n",
    "axarr[1, 0].scatter(df.wind_speed.loc[df.time.dt.month==8], df.power.loc[df.time.dt.month==8], alpha=0.7, c='orangered')     #c='darkviolet',\n",
    "axarr[1, 0].set_title('August', fontsize=14)\n",
    "\n",
    "axarr[1, 1].scatter(df.wind_speed.loc[df.time.dt.month==9], df.power.loc[df.time.dt.month==9], alpha=0.7) #c='salmon',\n",
    "axarr[1, 1].set_title('September', fontsize=14)\n",
    "\n",
    "axarr[1, 2].scatter(df.wind_speed.loc[df.time.dt.month==10], df.power.loc[df.time.dt.month==10], alpha=0.7) #c='salmon',\n",
    "axarr[1, 2].set_title('October', fontsize=14)\n",
    "\n",
    "axarr[1, 1].set_xlabel('wind speed [m/s]', fontsize=26)\n",
    "\n",
    "fig.suptitle('Monthly power curves, [1s resolution] ', fontsize=28)\n",
    "\n",
    "plt.show()\n"
   ]
  },
  {
   "cell_type": "code",
   "execution_count": 5,
   "metadata": {
    "collapsed": false
   },
   "outputs": [],
   "source": [
    "# multiple hist plots; wind speed\n",
    "\n",
    "fig, axarr = plt.subplots(2, 3, sharex=True, sharey=True)\n",
    "\n",
    "axarr[0, 0].hist(df.wind_speed.loc[df.time.dt.month==5].dropna(), alpha=0.8, color='g')      #c='cyan',\n",
    "axarr[0, 0].set_title('May', fontsize=14)\n",
    "\n",
    "axarr[0, 1].hist(df.wind_speed.loc[df.time.dt.month==6].dropna(), alpha=0.8, color='orangered') \n",
    "axarr[0, 1].set_title('June', fontsize=14)\n",
    "\n",
    "axarr[0, 2].hist(df.wind_speed.loc[df.time.dt.month==7].dropna(), alpha=0.8, color='orangered') \n",
    "axarr[0, 2].set_title('July', fontsize=14)\n",
    "\n",
    "axarr[1, 0].hist(df.wind_speed.loc[df.time.dt.month==8].dropna(), alpha=0.8, color='orangered')    \n",
    "axarr[1, 0].set_title('August', fontsize=14)\n",
    "\n",
    "axarr[1, 1].hist(df.wind_speed.loc[df.time.dt.month==9].dropna(), alpha=0.8, color='b') \n",
    "axarr[1, 1].set_title('September', fontsize=14)\n",
    "\n",
    "axarr[1, 2].hist(df.wind_speed.loc[df.time.dt.month==10].dropna(), alpha=0.8, color='b') \n",
    "axarr[1, 2].set_title('October', fontsize=14)\n",
    "\n",
    "axarr[1, 1].set_xlabel('wind speed [m/s]', fontsize=26)\n",
    "\n",
    "fig.suptitle('Histograms of wind speed, [1s interval] ', fontsize=28)\n",
    "\n",
    "plt.show()\n"
   ]
  },
  {
   "cell_type": "code",
   "execution_count": 17,
   "metadata": {
    "collapsed": false
   },
   "outputs": [],
   "source": [
    "# multiple hist plots; power\n",
    "\n",
    "fig, axarr = plt.subplots(2, 3, sharex=True, sharey=True)\n",
    "\n",
    "axarr[0, 0].hist(df.power.loc[df.time.dt.month==5].dropna(), alpha=0.8, color='g')     \n",
    "axarr[0, 0].set_title('May', fontsize=14)\n",
    "\n",
    "\n",
    "axarr[0, 1].hist(df.power.loc[df.time.dt.month==6].dropna(), alpha=0.8, color='orangered') \n",
    "axarr[0, 1].set_title('June', fontsize=14)\n",
    "\n",
    "axarr[0, 2].hist(df.power.loc[df.time.dt.month==7].dropna(), alpha=0.8, color='orangered') \n",
    "axarr[0, 2].set_title('July', fontsize=14)\n",
    "\n",
    "axarr[1, 0].hist(df.power.loc[df.time.dt.month==8].dropna(), alpha=0.8, color='orangered')    \n",
    "axarr[1, 0].set_title('August', fontsize=14)\n",
    "\n",
    "axarr[1, 1].hist(df.power.loc[df.time.dt.month==9].dropna(), alpha=0.8, color='b') \n",
    "axarr[1, 1].set_title('September', fontsize=14)\n",
    "\n",
    "axarr[1, 2].hist(df.power.loc[df.time.dt.month==10].dropna(), alpha=0.8, color='b') \n",
    "axarr[1, 2].set_title('October', fontsize=14)\n",
    "\n",
    "axarr[1, 1].set_xlabel('power [kW]', fontsize=26)\n",
    "\n",
    "fig.suptitle('Histograms of power, [1s interval] ', fontsize=28)\n",
    "\n",
    "plt.show()\n"
   ]
  },
  {
   "cell_type": "code",
   "execution_count": null,
   "metadata": {
    "collapsed": true
   },
   "outputs": [],
   "source": [
    "from scipy import stats\n",
    "\n",
    "stats.describe(df.speed.dropna())"
   ]
  },
  {
   "cell_type": "code",
   "execution_count": 37,
   "metadata": {
    "collapsed": false
   },
   "outputs": [
    {
     "name": "stdout",
     "output_type": "stream",
     "text": [
      "<pandas.core.groupby.DataFrameGroupBy object at 0x0000012202DDEEF0>\n"
     ]
    },
    {
     "data": {
      "text/html": [
       "<div>\n",
       "<table border=\"1\" class=\"dataframe\">\n",
       "  <thead>\n",
       "    <tr style=\"text-align: right;\">\n",
       "      <th></th>\n",
       "      <th>count</th>\n",
       "      <th>mean</th>\n",
       "      <th>std</th>\n",
       "      <th>min</th>\n",
       "      <th>25%</th>\n",
       "      <th>50%</th>\n",
       "      <th>75%</th>\n",
       "      <th>max</th>\n",
       "    </tr>\n",
       "    <tr>\n",
       "      <th>time</th>\n",
       "      <th></th>\n",
       "      <th></th>\n",
       "      <th></th>\n",
       "      <th></th>\n",
       "      <th></th>\n",
       "      <th></th>\n",
       "      <th></th>\n",
       "      <th></th>\n",
       "    </tr>\n",
       "  </thead>\n",
       "  <tbody>\n",
       "    <tr>\n",
       "      <th>5</th>\n",
       "      <td>320.0</td>\n",
       "      <td>397.187821</td>\n",
       "      <td>567.118357</td>\n",
       "      <td>14.714593</td>\n",
       "      <td>14.908340</td>\n",
       "      <td>212.415170</td>\n",
       "      <td>487.374262</td>\n",
       "      <td>2507.615923</td>\n",
       "    </tr>\n",
       "    <tr>\n",
       "      <th>6</th>\n",
       "      <td>175.0</td>\n",
       "      <td>234.726774</td>\n",
       "      <td>299.650650</td>\n",
       "      <td>14.873653</td>\n",
       "      <td>14.904156</td>\n",
       "      <td>96.805396</td>\n",
       "      <td>355.798798</td>\n",
       "      <td>1412.220046</td>\n",
       "    </tr>\n",
       "    <tr>\n",
       "      <th>7</th>\n",
       "      <td>220.0</td>\n",
       "      <td>273.581696</td>\n",
       "      <td>411.310638</td>\n",
       "      <td>14.945439</td>\n",
       "      <td>15.164090</td>\n",
       "      <td>152.326165</td>\n",
       "      <td>323.275427</td>\n",
       "      <td>2501.700632</td>\n",
       "    </tr>\n",
       "    <tr>\n",
       "      <th>8</th>\n",
       "      <td>304.0</td>\n",
       "      <td>239.356441</td>\n",
       "      <td>250.007837</td>\n",
       "      <td>15.015097</td>\n",
       "      <td>15.139725</td>\n",
       "      <td>167.196834</td>\n",
       "      <td>346.151543</td>\n",
       "      <td>1063.117775</td>\n",
       "    </tr>\n",
       "    <tr>\n",
       "      <th>9</th>\n",
       "      <td>115.0</td>\n",
       "      <td>268.649461</td>\n",
       "      <td>321.155424</td>\n",
       "      <td>14.775001</td>\n",
       "      <td>14.983316</td>\n",
       "      <td>185.403046</td>\n",
       "      <td>367.364740</td>\n",
       "      <td>2496.619294</td>\n",
       "    </tr>\n",
       "    <tr>\n",
       "      <th>10</th>\n",
       "      <td>73.0</td>\n",
       "      <td>187.734968</td>\n",
       "      <td>213.005815</td>\n",
       "      <td>14.643242</td>\n",
       "      <td>14.681245</td>\n",
       "      <td>14.757341</td>\n",
       "      <td>330.796883</td>\n",
       "      <td>755.805750</td>\n",
       "    </tr>\n",
       "  </tbody>\n",
       "</table>\n",
       "</div>"
      ],
      "text/plain": [
       "      count        mean         std        min        25%         50%  \\\n",
       "time                                                                    \n",
       "5     320.0  397.187821  567.118357  14.714593  14.908340  212.415170   \n",
       "6     175.0  234.726774  299.650650  14.873653  14.904156   96.805396   \n",
       "7     220.0  273.581696  411.310638  14.945439  15.164090  152.326165   \n",
       "8     304.0  239.356441  250.007837  15.015097  15.139725  167.196834   \n",
       "9     115.0  268.649461  321.155424  14.775001  14.983316  185.403046   \n",
       "10     73.0  187.734968  213.005815  14.643242  14.681245   14.757341   \n",
       "\n",
       "             75%          max  \n",
       "time                           \n",
       "5     487.374262  2507.615923  \n",
       "6     355.798798  1412.220046  \n",
       "7     323.275427  2501.700632  \n",
       "8     346.151543  1063.117775  \n",
       "9     367.364740  2496.619294  \n",
       "10    330.796883   755.805750  "
      ]
     },
     "execution_count": 37,
     "metadata": {},
     "output_type": "execute_result"
    }
   ],
   "source": [
    "grouped_data = df.groupby(df.time.dt.month)\n",
    "print(grouped_data)\n",
    "\n",
    "grouped_data['power'].describe().unstack()     \n",
    "#the method unstack is used to get the mean, standard deviation (std), etc as columns and it becomes somewhat easier to read.\n"
   ]
  },
  {
   "cell_type": "code",
   "execution_count": null,
   "metadata": {
    "collapsed": true
   },
   "outputs": [],
   "source": []
  }
 ],
 "metadata": {
  "kernelspec": {
   "display_name": "Python 3",
   "language": "python",
   "name": "python3"
  },
  "language_info": {
   "codemirror_mode": {
    "name": "ipython",
    "version": 3
   },
   "file_extension": ".py",
   "mimetype": "text/x-python",
   "name": "python",
   "nbconvert_exporter": "python",
   "pygments_lexer": "ipython3",
   "version": "3.5.1"
  }
 },
 "nbformat": 4,
 "nbformat_minor": 0
}
