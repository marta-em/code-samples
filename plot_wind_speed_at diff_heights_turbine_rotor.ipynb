{
 "cells": [
  {
   "cell_type": "code",
   "execution_count": 11,
   "metadata": {
    "collapsed": true
   },
   "outputs": [],
   "source": [
    "import numpy as np\n",
    "import pandas as pd\n",
    "import matplotlib.pyplot as plt\n",
    "import matplotlib\n",
    "from sklearn.preprocessing import MinMaxScaler\n",
    "from scipy import spatial\n",
    "from datetime import timedelta\n",
    "import seaborn as sns\n",
    "\n",
    "df = pd.read_csv('D:\\data from MnM Samdal raw\\Samdal_power_1min_no_outliers.csv',  parse_dates=[0], index_col = 0)\n",
    "\n",
    "#interpolate \n",
    "df.speed = df.speed.interpolate(method='linear', limit=3)\n",
    "df.power = df.power.interpolate(method='linear', limit=3)\n"
   ]
  },
  {
   "cell_type": "code",
   "execution_count": 12,
   "metadata": {
    "collapsed": true
   },
   "outputs": [],
   "source": [
    "# wind speed extrapolation with power law \n",
    "\n",
    "# Roughness Length 0.2\n",
    "# Agricultural land with many houses, shrubs and plants, or 8 metre tall sheltering hedgerows\n",
    "# with a distance of approximately 250 metres\n",
    "\n",
    "# rotor diameter 90m \n",
    "\n",
    "rough_len = 0.2\n",
    "\n",
    "height1 = 35  #min tip height\n",
    "height2 = 60\n",
    "height_ref = 80  # assumed hub height\n",
    "height3 = 100\n",
    "height4 = 125\n",
    "height5 = 150  #max tip height\n",
    "\n",
    "speed_ref = df.speed\n",
    "\n",
    "#exponential law\n",
    "\n",
    "# h higher height\n",
    "# h0 lower height\n",
    "# a = rough_len\n",
    "\n",
    "# v/v0 = (h/h0)^a\n",
    "\n",
    "# v0 = v/((h/h0)^a)\n",
    "# v = ((h/h0)^a)*v0\n",
    "\n",
    "speed1 = speed_ref/((height_ref/height1)**rough_len)\n",
    "speed2 = speed_ref/((height_ref/height2)**rough_len)\n",
    "speed3 = ((height3/height_ref)**rough_len)*speed_ref\n",
    "speed4 = ((height4/height_ref)**rough_len)*speed_ref\n",
    "speed5 = ((height5/height_ref)**rough_len)*speed_ref"
   ]
  },
  {
   "cell_type": "code",
   "execution_count": 23,
   "metadata": {
    "collapsed": true
   },
   "outputs": [],
   "source": [
    "# plot\n",
    "\n",
    "import matplotlib\n",
    "from matplotlib.dates import DayLocator, HourLocator, DateFormatter, drange\n",
    "import matplotlib.dates as dates\n",
    "\n",
    "sns.set_style(\"white\")\n",
    "sns.set_palette(\"muted\") \n",
    "\n",
    "fig, ax = plt.subplots()\n",
    "\n",
    "ax.plot( speed1,  label='wind speed at 35m (min blade tip height)', marker='o')\n",
    "#plt.plot( speed2,  label='wind speed at 60m', marker='o')\n",
    "ax.plot( speed_ref,  label='wind speed at 80m (hub height)', marker='v')\n",
    "#plt.plot( speed3,  label='wind speed at 100m', marker='o')\n",
    "ax.plot( speed4,  label='wind speed at 125m (max blade tip height)', marker='d')\n",
    "#plt.plot( speed5,  label='wind speed at 150m (max tip height)', marker='o')\n",
    "\n",
    "plt.legend(fontsize=22)\n",
    "ax.set_xlabel('time [1 min.]', fontsize = 26)\n",
    "ax.set_ylabel('wind speed [m/s]', fontsize = 26)\n",
    "plt.xlim('06-01-2011 04:15','06-01-2011 06:15')\n",
    "plt.xticks(fontsize=20)\n",
    "plt.yticks(fontsize=20)\n",
    "\n",
    "frmt = dates.DateFormatter('%H:%M:%S')\n",
    "ax.xaxis.set_major_formatter(frmt)\n",
    "\n",
    "plt.title('Wind speed at different heights of the rotor (90m diameter)', fontsize = 28)\n",
    "\n",
    "plt.show()"
   ]
  },
  {
   "cell_type": "code",
   "execution_count": null,
   "metadata": {
    "collapsed": true
   },
   "outputs": [],
   "source": []
  }
 ],
 "metadata": {
  "kernelspec": {
   "display_name": "Python 3",
   "language": "python",
   "name": "python3"
  },
  "language_info": {
   "codemirror_mode": {
    "name": "ipython",
    "version": 3
   },
   "file_extension": ".py",
   "mimetype": "text/x-python",
   "name": "python",
   "nbconvert_exporter": "python",
   "pygments_lexer": "ipython3",
   "version": "3.5.1"
  }
 },
 "nbformat": 4,
 "nbformat_minor": 0
}
