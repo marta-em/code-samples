{
 "cells": [
  {
   "cell_type": "code",
   "execution_count": 1,
   "metadata": {
    "collapsed": false
   },
   "outputs": [],
   "source": [
    "import numpy as np\n",
    "import pandas as pd\n",
    "import matplotlib.pyplot as plt\n",
    "from scipy import spatial\n",
    "from datetime import timedelta\n",
    "import seaborn as sns\n",
    "import scipy.stats as stats\n",
    "sns.set_style(\"white\")\n",
    "from gatspy.periodic import LombScargleFast\n",
    "from gatspy.periodic import LombScargle\n",
    "from datetime import timedelta\n",
    "\n",
    "df = pd.read_csv('D:\\data from MnM Samdal raw\\Samdal_power_30min_no_outliers.csv',  parse_dates=[0])\n",
    "\n",
    "df = df.rename( columns={\"Unnamed: 0\": \"time\"})\n"
   ]
  },
  {
   "cell_type": "code",
   "execution_count": 2,
   "metadata": {
    "collapsed": true
   },
   "outputs": [],
   "source": [
    "# no smoothing\n",
    "df['new_speed'] = df.speed\n",
    "\n",
    "df = df.dropna(subset=['new_speed'])"
   ]
  },
  {
   "cell_type": "code",
   "execution_count": 2,
   "metadata": {
    "collapsed": true
   },
   "outputs": [],
   "source": [
    "# with  smoothing\n",
    "\n",
    "# resample to 30s\n",
    "win_size0 = 4  # 2h avg, based on 30s interval data\n",
    "\n",
    "df2sspeed = df.speed.rolling(win_size0, min_periods = int(win_size0)).mean()\n",
    "\n",
    "# add nan of half size of the window at the beginning of df to better match the series\n",
    "nn = df2sspeed[int(win_size0/2):].values\n",
    "tap = np.nan * np.empty(int(win_size0/2))\n",
    "\n",
    "mergedlist = []\n",
    "mergedlist.extend(nn)\n",
    "mergedlist.extend(tap)\n",
    "df['new_speed'] = mergedlist\n",
    "\n",
    "df = df.dropna(subset=['new_speed'])"
   ]
  },
  {
   "cell_type": "code",
   "execution_count": 65,
   "metadata": {
    "collapsed": true
   },
   "outputs": [],
   "source": [
    "plt.plot(df.new_speed, 'o')\n",
    "plt.plot(df.speed, c='r')\n",
    "\n",
    "plt.show()"
   ]
  },
  {
   "cell_type": "code",
   "execution_count": 3,
   "metadata": {
    "collapsed": true
   },
   "outputs": [],
   "source": [
    "t = df.time\n",
    "#mag = df.speed\n",
    "mag = df.new_speed\n",
    "\n",
    "# calc differences from the beginning of time to create a new time index\n",
    "subtract = lambda x: x - t.iloc[0]  # iloc because [] takes by index value, and iloc takes first value from the df\n",
    "df['time_diff'] = t.apply(subtract)"
   ]
  },
  {
   "cell_type": "code",
   "execution_count": 4,
   "metadata": {
    "collapsed": true
   },
   "outputs": [],
   "source": [
    "df= df.set_index('time')"
   ]
  },
  {
   "cell_type": "code",
   "execution_count": 5,
   "metadata": {
    "collapsed": true
   },
   "outputs": [],
   "source": [
    "# only for resol. bigger than sec\n",
    "\n",
    "# count time from the beginning as a number, not as a datetime\n",
    "\n",
    "#to_min = lambda x: (x.total_seconds())/1800  # to 30min \n",
    "to_min = lambda x: (x.total_seconds())/86400  # to 1 day\n",
    "\n",
    "df['time_diff_conv'] = df.time_diff.apply(to_min)   # to a number\n",
    "t= df['time_diff_conv']\n"
   ]
  },
  {
   "cell_type": "code",
   "execution_count": 7,
   "metadata": {
    "collapsed": false
   },
   "outputs": [
    {
     "name": "stdout",
     "output_type": "stream",
     "text": [
      "Finding optimal frequency:\n",
      " - Estimated peak width = 0.0362\n",
      " - Using 5 steps per peak; omega_step = 0.00725\n",
      " - User-specified period range:  0.1 to 90\n",
      " - Computing periods at 8663 steps\n",
      "Zooming-in on 5 candidate peaks:\n",
      " - Computing periods at 1000 steps\n"
     ]
    },
    {
     "data": {
      "text/plain": [
       "83.419444493933611"
      ]
     },
     "execution_count": 7,
     "metadata": {},
     "output_type": "execute_result"
    }
   ],
   "source": [
    "# model optimization, looking for the right period\n",
    "\n",
    "model = LombScargleFast(fit_period=True)\n",
    "\n",
    "model.optimizer.period_range = (0.1, 90) # range should be in the same units as data\n",
    "model.fit(t, mag)\n",
    "model.best_period\n"
   ]
  },
  {
   "cell_type": "code",
   "execution_count": 9,
   "metadata": {
    "collapsed": false
   },
   "outputs": [
    {
     "name": "stdout",
     "output_type": "stream",
     "text": [
      "Finding optimal frequency:\n",
      " - Estimated peak width = 0.0362\n",
      " - Using 100 steps per peak; omega_step = 0.000362\n",
      " - User-specified period range:  81 to 85\n",
      " - Computing periods at 12 steps\n",
      "Zooming-in on 5 candidate peaks:\n",
      " - Computing periods at 50 steps\n"
     ]
    },
    {
     "data": {
      "text/plain": [
       "84.668000536100635"
      ]
     },
     "execution_count": 9,
     "metadata": {},
     "output_type": "execute_result"
    }
   ],
   "source": [
    "# further model optimization, looking for the right period\n",
    "\n",
    "model = LombScargleFast(fit_period=True)\n",
    "\n",
    "model.optimizer.set(period_range=(81, 85), first_pass_coverage=10)\n",
    "#model.optimizer.set(period_range=(0.9, 1.2), first_pass_coverage=10)\n",
    "\n",
    " # range should be in the same units as data\n",
    "model.fit(t, mag)\n",
    "model.best_period\n"
   ]
  },
  {
   "cell_type": "code",
   "execution_count": 11,
   "metadata": {
    "collapsed": false
   },
   "outputs": [],
   "source": [
    "# minutes\n",
    "\n",
    "model = LombScargleFast().fit(t, mag)\n",
    "#model = LombScargle().fit(t, mag)\n",
    "\n",
    "#periods, power = model.periodogram_auto(nyquist_factor=100)\n",
    "periods, power = model.periodogram_auto()\n",
    "\n",
    "fig, ax = plt.subplots()\n",
    "ax.plot(periods, power)\n",
    "\n",
    "plt.xticks(fontsize=22)\n",
    "plt.yticks(fontsize=22)\n",
    "ax.set_xlabel('period [30 min.]', fontsize=26)\n",
    "\n",
    "ax.set_ylabel('Lomb-Scargle Power', fontsize=26)\n",
    "\n",
    "plt.show()\n",
    "\n"
   ]
  }
 ],
 "metadata": {
  "kernelspec": {
   "display_name": "Python 3",
   "language": "python",
   "name": "python3"
  },
  "language_info": {
   "codemirror_mode": {
    "name": "ipython",
    "version": 3
   },
   "file_extension": ".py",
   "mimetype": "text/x-python",
   "name": "python",
   "nbconvert_exporter": "python",
   "pygments_lexer": "ipython3",
   "version": "3.5.1"
  }
 },
 "nbformat": 4,
 "nbformat_minor": 0
}
