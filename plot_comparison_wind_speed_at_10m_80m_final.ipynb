{
 "cells": [
  {
   "cell_type": "code",
   "execution_count": 7,
   "metadata": {
    "collapsed": false
   },
   "outputs": [],
   "source": [
    "import numpy as np\n",
    "import pandas as pd\n",
    "import matplotlib.pyplot as plt\n",
    "from sklearn.preprocessing import MinMaxScaler\n",
    "from scipy import spatial\n",
    "from datetime import timedelta\n",
    "import seaborn as sns\n",
    "sns.set_style(\"whitegrid\")\n",
    "from mpl_toolkits.axes_grid.anchored_artists import AnchoredText\n",
    "\n",
    "#df = pd.read_csv('Samdal_power_1min_wo_final2.csv',  parse_dates=[0], index_col = 0)\n",
    "\n",
    "\n",
    "# old data with weather\n",
    "\n",
    "#dfw = pd.read_csv('D:\\data from MnM Samdal raw\\Samdal_power_1h_no_outliers_weather.csv',  parse_dates=[0], index_col = 0)\n",
    "# df1.head(1)\n",
    "# df1.tail(1)\n",
    "\n",
    "# new data\n",
    "#df = pd.read_csv('D:\\data from MnM Samdal raw\\Samdal_power_1h_no_outliers.csv',  parse_dates=[0], index_col = 0)\n",
    "#len(dfw)\n",
    "df1 = pd.read_csv('D:\\data from MnM Samdal raw\\Samdal_power_1s_no_outliers_after_all_outliers_removal.csv',  parse_dates=[0], index_col = 0)\n"
   ]
  },
  {
   "cell_type": "code",
   "execution_count": 5,
   "metadata": {
    "collapsed": false
   },
   "outputs": [
    {
     "data": {
      "text/plain": [
       "4165"
      ]
     },
     "execution_count": 5,
     "metadata": {},
     "output_type": "execute_result"
    }
   ],
   "source": [
    "len(df1)\n"
   ]
  },
  {
   "cell_type": "code",
   "execution_count": 2,
   "metadata": {
    "collapsed": true
   },
   "outputs": [],
   "source": [
    "# # reindex\n",
    "# new_index = pd.date_range(start='2011-04-20 12:00:00', end='2011-10-11 00:00:00', freq='1s')\n",
    "# dfrei = df.reindex(index=new_index)\n",
    "\n",
    "# win_size0 = 3600  # 5s avg\n",
    "\n",
    "# #df1h = dfrei.rolling(win_size0, min_periods = win_size0).mean()\n",
    "# df1h = dfrei.rolling(win_size0, min_periods = 1).mean()\n",
    "\n",
    "# df1h = df1h[::win_size0]\n",
    "\n"
   ]
  },
  {
   "cell_type": "code",
   "execution_count": 2,
   "metadata": {
    "collapsed": true
   },
   "outputs": [],
   "source": [
    "# remove first and last row to match the length\n",
    "# remove first and last row\n",
    "\n",
    "df = df[1:-1]\n",
    "#len(df1h)\n",
    "\n",
    "# merge power and weather info\n",
    "\n",
    "del dfw['wind_speed']\n",
    "del dfw['power']\n",
    "\n",
    "dfw['speed'] = df['speed']\n",
    "dfw['power'] = df['power']\n",
    "\n",
    "dfw = dfw.rename( columns={\"wind_speed_10m\": \"speed10\"})\n",
    "\n",
    "# df = dfw.copy(deep=True)\n",
    "# df1 = dfw.copy(deep=True)"
   ]
  },
  {
   "cell_type": "code",
   "execution_count": 5,
   "metadata": {
    "collapsed": false
   },
   "outputs": [
    {
     "data": {
      "text/html": [
       "<div>\n",
       "<table border=\"1\" class=\"dataframe\">\n",
       "  <thead>\n",
       "    <tr style=\"text-align: right;\">\n",
       "      <th></th>\n",
       "      <th>temperature</th>\n",
       "      <th>precipitation</th>\n",
       "      <th>wind_direction</th>\n",
       "      <th>speed10</th>\n",
       "      <th>pressure</th>\n",
       "      <th>humidity</th>\n",
       "      <th>speed</th>\n",
       "      <th>power</th>\n",
       "    </tr>\n",
       "  </thead>\n",
       "  <tbody>\n",
       "    <tr>\n",
       "      <th>2011-04-20 13:00:00</th>\n",
       "      <td>17.0</td>\n",
       "      <td>NaN</td>\n",
       "      <td>110</td>\n",
       "      <td>3.2</td>\n",
       "      <td>1021.6</td>\n",
       "      <td>65</td>\n",
       "      <td>6.850419</td>\n",
       "      <td>565.527115</td>\n",
       "    </tr>\n",
       "    <tr>\n",
       "      <th>2011-04-20 14:00:00</th>\n",
       "      <td>16.1</td>\n",
       "      <td>NaN</td>\n",
       "      <td>110</td>\n",
       "      <td>3.3</td>\n",
       "      <td>1021.4</td>\n",
       "      <td>65</td>\n",
       "      <td>10.073489</td>\n",
       "      <td>1920.468504</td>\n",
       "    </tr>\n",
       "  </tbody>\n",
       "</table>\n",
       "</div>"
      ],
      "text/plain": [
       "                     temperature  precipitation  wind_direction  speed10  \\\n",
       "2011-04-20 13:00:00         17.0            NaN             110      3.2   \n",
       "2011-04-20 14:00:00         16.1            NaN             110      3.3   \n",
       "\n",
       "                     pressure  humidity      speed        power  \n",
       "2011-04-20 13:00:00    1021.6        65   6.850419   565.527115  \n",
       "2011-04-20 14:00:00    1021.4        65  10.073489  1920.468504  "
      ]
     },
     "execution_count": 5,
     "metadata": {},
     "output_type": "execute_result"
    }
   ],
   "source": [
    "dfw.head(2)"
   ]
  },
  {
   "cell_type": "code",
   "execution_count": 3,
   "metadata": {
    "collapsed": false
   },
   "outputs": [
    {
     "name": "stdout",
     "output_type": "stream",
     "text": [
      "[[ 1.          0.26481208]\n",
      " [ 0.26481208  1.        ]]\n"
     ]
    }
   ],
   "source": [
    "# correl coef\n",
    "\n",
    "dfnona = dfw.dropna(subset=['speed', 'speed10'], how='any')\n",
    "\n",
    "correl = np.corrcoef(dfnona.speed, dfnona.speed10)\n",
    "print(correl)"
   ]
  },
  {
   "cell_type": "code",
   "execution_count": 52,
   "metadata": {
    "collapsed": false
   },
   "outputs": [],
   "source": [
    "# Comparison of wind speed at 10m and 80m \n",
    "import seaborn as sns; sns.set() \n",
    " \n",
    "from mpl_toolkits.axes_grid.anchored_artists import AnchoredText\n",
    "sns.set_palette(\"hls\") \n",
    "sns.set_style(\"white\")\n",
    "\n",
    "\n",
    "fig = plt.figure()\n",
    "\n",
    "ax1 = fig.add_subplot(611)\n",
    "ax1.plot(dfw.speed10.loc[dfw.index.month ==5], label='wind speed at 10m', color=\"g\")\n",
    "ax1.plot(dfw.speed.loc[dfw.index.month ==5], label='wind speed at 80m', color=\"r\")\n",
    "ax1.set_title('Comparison of wind speed at 10m and 80m, [1h resolution]', fontsize = 28)\n",
    "ax1.legend(fontsize=22, bbox_to_anchor=(.8, .8), loc=3)\n",
    "ax1.set_ylim(0,18)\n",
    "ax1.set_xlim('05-01-2011','05-31-2011')\n",
    "\n",
    "ax2 = fig.add_subplot(612)\n",
    "ax2.plot(dfw.speed10.loc[dfw.index.month ==6], label='wind speed at 10m', color=\"g\")\n",
    "ax2.plot(dfw.speed.loc[dfw.index.month ==6], label='wind speed at 80m', color=\"r\")\n",
    "ax2.set_ylim(0,18)\n",
    "ax2.set_xlim('06-01-2011','06-30-2011')\n",
    "\n",
    "ax3 = fig.add_subplot(613)\n",
    "ax3.plot(dfw.speed10.loc[dfw.index.month ==7], label='wind speed at 10m', color=\"g\")\n",
    "ax3.plot(dfw.speed.loc[dfw.index.month ==7], label='wind speed at 80m', color=\"r\")\n",
    "ax3.set_ylim(0,18)\n",
    "ax3.set_xlim('07-01-2011','07-31-2011')\n",
    "\n",
    "ax4 = fig.add_subplot(614)\n",
    "ax4.plot(dfw.speed10.loc[dfw.index.month ==8], label='wind speed at 10m', color=\"g\")\n",
    "ax4.plot(dfw.speed.loc[dfw.index.month ==8], label='wind speed at 80m', color=\"r\")\n",
    "ax4.set_ylabel('wind speed [m/s]', fontsize = 26)\n",
    "ax4.set_ylim(0,18)\n",
    "ax4.set_xlim('08-01-2011','08-31-2011')\n",
    "\n",
    "ax5 = fig.add_subplot(615)\n",
    "ax5.plot(dfw.speed10.loc[dfw.index.month ==9], label='wind speed at 10m', color=\"g\")\n",
    "ax5.plot(dfw.speed.loc[dfw.index.month ==9], label='wind speed at 80m', color=\"r\")\n",
    "ax5.set_ylim(0,18)\n",
    "ax5.set_xlim('09-01-2011','09-30-2011')\n",
    "\n",
    "ax6 = fig.add_subplot(616)\n",
    "ax6.plot(dfw.speed10.loc[dfw.index.month ==10], label='wind speed at 10m', color=\"g\")\n",
    "ax6.plot(dfw.speed.loc[dfw.index.month ==10], label='wind speed at 80m', color=\"r\")\n",
    "ax6.set_ylim(0,18)\n",
    "ax6.set_xlim('10-01-2011', '10-30-2011')\n",
    "\n",
    "at = AnchoredText('Correl = {:.2f}'.format( correl[0,1]),\n",
    "                  prop=dict(size=20), frameon=True,\n",
    "                  loc=4,\n",
    "                  )\n",
    "\n",
    "at.patch.set_boxstyle(\"round,pad=0.,rounding_size=0.2\")\n",
    "ax6.add_artist(at)\n",
    "\n",
    "plt.show()"
   ]
  },
  {
   "cell_type": "code",
   "execution_count": null,
   "metadata": {
    "collapsed": true
   },
   "outputs": [],
   "source": []
  },
  {
   "cell_type": "code",
   "execution_count": 6,
   "metadata": {
    "collapsed": false
   },
   "outputs": [
    {
     "data": {
      "text/plain": [
       "Index(['wind_speed', 'power', 'temperature', 'precipitation', 'wind_direction',\n",
       "       'wind_speed_10m', 'pressure', 'humidity'],\n",
       "      dtype='object')"
      ]
     },
     "execution_count": 6,
     "metadata": {},
     "output_type": "execute_result"
    }
   ],
   "source": [
    "dfw.columns"
   ]
  },
  {
   "cell_type": "code",
   "execution_count": null,
   "metadata": {
    "collapsed": true
   },
   "outputs": [],
   "source": [
    "# plot rolling mean comparison of different time intervals\n",
    "\n",
    "\n",
    "\n"
   ]
  },
  {
   "cell_type": "code",
   "execution_count": null,
   "metadata": {
    "collapsed": true
   },
   "outputs": [],
   "source": []
  },
  {
   "cell_type": "code",
   "execution_count": 4,
   "metadata": {
    "collapsed": false
   },
   "outputs": [],
   "source": [
    "plt.scatter(df.speed, df.power)\n",
    "\n",
    "#plt.legend(fontsize=22)\n",
    "plt.xlabel('wind speed [m/s]', fontsize = 26)\n",
    "plt.ylabel('power [kW]', fontsize = 26)\n",
    "plt.xlim(-1,)\n",
    "plt.ylim(-100,)\n",
    "plt.xticks(fontsize=20)\n",
    "plt.yticks(fontsize=20)\n",
    "plt.title('Power curve, 1min. interval', fontsize = 28)\n",
    "\n",
    "plt.show()"
   ]
  },
  {
   "cell_type": "code",
   "execution_count": null,
   "metadata": {
    "collapsed": true
   },
   "outputs": [],
   "source": [
    "new_index = pd.date_range('4/20/2011 12:15:00', '10/10/2011 23:47:00' , freq='1min')\n",
    "df = df.reindex(new_index)\n"
   ]
  },
  {
   "cell_type": "code",
   "execution_count": null,
   "metadata": {
    "collapsed": true
   },
   "outputs": [],
   "source": [
    "#interpolate \n",
    "df.speed = df.speed.interpolate(method='linear', limit=5)\n",
    "df.power = df.power.interpolate(method='linear', limit=5)"
   ]
  },
  {
   "cell_type": "code",
   "execution_count": null,
   "metadata": {
    "collapsed": true
   },
   "outputs": [],
   "source": [
    "plt.scatter(df.every_30th_speed, df.every_30th_power)\n",
    "\n",
    "#plt.legend(fontsize=22)\n",
    "plt.xlabel('wind speed [m/s]', fontsize = 26)\n",
    "plt.ylabel('power [kW]', fontsize = 26)\n",
    "plt.xlim(-1,)\n",
    "plt.ylim(-100,)\n",
    "plt.xticks(fontsize=20)\n",
    "plt.yticks(fontsize=20)\n",
    "plt.title('Power curve after interpolation, 30min interval', fontsize = 28)\n",
    "\n",
    "plt.show()"
   ]
  },
  {
   "cell_type": "code",
   "execution_count": null,
   "metadata": {
    "collapsed": true
   },
   "outputs": [],
   "source": [
    "# do it with rolling mean \n",
    "\n",
    "# time series for diff. time intervals 1min., 5min., 30min. \n",
    "sns.set_style(\"darkgrid\")\n",
    "\n",
    "\n",
    "plt.plot(df.index,  df.every_5th_speed,  label='wind speed, 5min. interval')\n",
    "plt.plot(df.index, df.every_30th_speed,  label='wind speed, 30min. interval')\n",
    "plt.plot(df.index, df.every_60th_speed,  label='wind speed, 1h interval')\n",
    "\n",
    "\n",
    "\n",
    "plt.legend(fontsize=22)\n",
    "plt.xlabel('time', fontsize = 26)\n",
    "plt.ylabel('wind speed [m/s]', fontsize = 26)\n",
    "# plt.xlim(-1,)\n",
    "# plt.ylim(-100,)\n",
    "plt.xticks(fontsize=20)\n",
    "plt.yticks(fontsize=20)\n",
    "plt.title('Wind speed for diff. time intervals ', fontsize = 28)\n",
    "\n",
    "plt.show()"
   ]
  },
  {
   "cell_type": "code",
   "execution_count": null,
   "metadata": {
    "collapsed": true
   },
   "outputs": [],
   "source": [
    "df2 = df.copy(deep=True)\n",
    "\n",
    "df2 = df2.dropna(subset=['every_60th_speed'])\n",
    "new_index2 = pd.date_range('4/20/2011 13:00:00', '10/10/2011 23:00:00' , freq='1h')\n",
    "df2 = df2.reindex(new_index2)\n",
    "\n",
    "df2.to_csv('Samdal_power_1h.csv')"
   ]
  },
  {
   "cell_type": "code",
   "execution_count": null,
   "metadata": {
    "collapsed": true
   },
   "outputs": [],
   "source": [
    "dfh = pd.read_csv('Jeju_humidity.csv',  parse_dates=[0], index_col = 0)\n",
    "\n",
    "new_index2 = pd.date_range('4/20/2011 13:00:00', '10/10/2011 23:00:00' , freq='1h')\n",
    "dfh = dfh.reindex(new_index2)\n",
    "\n",
    "dfh = dfh.fillna(method='ffill', limit=23)\n",
    "\n",
    "\n",
    "dfh.to_csv('Samdal_humidity_1h.csv')"
   ]
  },
  {
   "cell_type": "code",
   "execution_count": null,
   "metadata": {
    "collapsed": true
   },
   "outputs": [],
   "source": [
    "\n",
    "# power\tspeed\ttemperature\tprecipitation\tdirection\tspeed10 \tpressure\thumidity\n",
    "\n",
    "#print(df1)\n"
   ]
  },
  {
   "cell_type": "code",
   "execution_count": 9,
   "metadata": {
    "collapsed": false
   },
   "outputs": [
    {
     "name": "stdout",
     "output_type": "stream",
     "text": [
      "[[ 1.          0.24248529]\n",
      " [ 0.24248529  1.        ]]\n"
     ]
    }
   ],
   "source": []
  },
  {
   "cell_type": "code",
   "execution_count": 5,
   "metadata": {
    "collapsed": false
   },
   "outputs": [],
   "source": []
  },
  {
   "cell_type": "code",
   "execution_count": 12,
   "metadata": {
    "collapsed": false
   },
   "outputs": [],
   "source": [
    "# plot of ws and power; red n blue [1h]\n",
    "\n",
    "from mpl_toolkits.axes_grid.anchored_artists import AnchoredText\n",
    "\n",
    "import seaborn as sns; sns.set() \n",
    " \n",
    "sns.set_palette(\"hls\") \n",
    "\n",
    "sns.set_style(\"white\")\n",
    "\n",
    "fig, ax1 = plt.subplots()\n",
    "\n",
    "\n",
    "\n",
    "df1 = df.copy(deep=True)\n",
    "\n",
    "# correl coef\n",
    "\n",
    "dfnonapw = df1.dropna(subset=['speed', 'power'], how='any')\n",
    "\n",
    "correl2 = np.corrcoef(dfnonapw.speed, dfnonapw.power)\n",
    "#######\n",
    "\n",
    "fig1 = plt.figure()\n",
    "ax1 = fig1.add_subplot(6, 1, 1)\n",
    "ax2 = fig1.add_subplot(6, 1, 1)\n",
    "ax2 = ax1.twinx()\n",
    "\n",
    "#ax1.subplot(7, 1, 1)\n",
    "ax1.plot(df1.power.loc[df1.index.month ==5], label='power [kW]', color=\"r\")\n",
    "ax2.plot(df1.speed.loc[df1.index.month ==5], label='wind speed at 80m [m/s]', color=\"b\")\n",
    "#ax2.set_ylabel('wind speed at 80m [m/s]', color='b', fontsize = 26)\n",
    "#ax2.tick_params('y', colors='b')\n",
    "\n",
    "\n",
    "ax1.set_title('Wind speed vs. power', fontsize = 30)\n",
    "ax1.legend(fontsize=22, bbox_to_anchor=(.76, .8), loc=3)\n",
    "\n",
    "ax2.legend(fontsize=22, bbox_to_anchor=(.76, 1.13), loc=3)\n",
    "# ax1.set_ylim(0,18)\n",
    "ax1.set_xlim('05-01-2011','05-31-2011')\n",
    "\n",
    "######\n",
    "\n",
    "ax1 = fig1.add_subplot(7, 1, 2)\n",
    "ax2 = fig1.add_subplot(7, 1, 2)\n",
    "ax2 = ax1.twinx()\n",
    "ax1.plot(df1.power.loc[df1.index.month ==6], label='wind speed at 10m', color=\"r\")\n",
    "ax2.plot(df1.speed.loc[df1.index.month ==6], label='wind speed at 80m', color=\"b\")\n",
    "ax1.set_xlim('06-01-2011','06-30-2011')\n",
    "\n",
    "########\n",
    "ax1 = fig1.add_subplot(7, 1, 3)\n",
    "ax2 = fig1.add_subplot(7, 1, 3)\n",
    "ax2 = ax1.twinx()\n",
    "ax1.plot(df1.power.loc[df1.index.month ==7], label='wind speed at 10m', color=\"r\")\n",
    "ax2.plot(df1.speed.loc[df1.index.month ==7], label='wind speed at 80m', color=\"b\")\n",
    "ax1.set_xlim('07-01-2011','07-31-2011')\n",
    "\n",
    "\n",
    "ax1 = fig1.add_subplot(7, 1, 4)\n",
    "ax2 = fig1.add_subplot(7, 1, 4)\n",
    "ax2 = ax1.twinx()\n",
    "ax1.plot(df1.power.loc[df1.index.month ==8], label='wind speed at 10m', color=\"r\")\n",
    "ax1.set_ylabel('power [kW]', color='r', fontsize = 27, labelpad = 10)\n",
    "\n",
    "ax2.plot(df1.speed.loc[df1.index.month ==8], label='wind speed at 80m', color=\"b\")\n",
    "ax2.set_ylabel('wind speed [m/s]', color='b', fontsize = 27, labelpad = 10)\n",
    "\n",
    "#ax1.ylabel('wind speed [m/s]', fontsize = 26)\n",
    "ax1.set_xlim('08-01-2011','08-31-2011')\n",
    "\n",
    "ax1 = fig1.add_subplot(7, 1, 5)\n",
    "ax2 = fig1.add_subplot(7, 1, 5)\n",
    "ax2 = ax1.twinx()\n",
    "ax1.plot(df1.power.loc[df1.index.month ==9], label='wind speed at 10m', color=\"r\")\n",
    "ax2.plot(df1.speed.loc[df1.index.month ==9], label='wind speed at 80m', color=\"b\")\n",
    "ax1.set_xlim('09-01-2011','09-30-2011')\n",
    "\n",
    "ax1 = fig1.add_subplot(7, 1, 6)\n",
    "ax2 = fig1.add_subplot(7, 1, 6)\n",
    "ax2 = ax1.twinx()\n",
    "ax1.plot(df1.power.loc[df1.index.month ==10], label='wind speed at 10m', color=\"r\")\n",
    "ax2.plot(df1.speed.loc[df1.index.month ==10], label='wind speed at 80m', color=\"b\")\n",
    "ax1.set_xlim('10-01-2011', '10-30-2011')\n",
    "\n",
    "# ax1 = fig1.add_subplot(7, 1, 7)\n",
    "# ax2 = fig1.add_subplot(7, 1, 7)\n",
    "# ax2 = ax1.twinx()\n",
    "# ax1.plot(df1.power.loc[df1.index.month ==10], label='power [kW]', color=\"r\")\n",
    "# ax2.plot(df1.speed.loc[df1.index.month ==10], label='wind speed at 80m [m/s]', color=\"b\")\n",
    "# ax1.set_xlim('10-01-2011', '10-30-2011')\n",
    "\n",
    "ax1.set_xlabel('time [1h interval]', fontsize = 27)\n",
    "\n",
    "at = AnchoredText('Correl = {:.2f}'.format( correl2[0,1]),\n",
    "                  prop=dict(size=20), frameon=True,\n",
    "                  loc=4,\n",
    "                  )\n",
    "\n",
    "at.patch.set_boxstyle(\"round,pad=0.,rounding_size=0.2\")\n",
    "ax1.add_artist(at)\n",
    "#plt.ylim(,)\n",
    "# plt.xticks(fontsize=20)\n",
    "# plt.yticks(fontsize=20)\n",
    "\n",
    "plt.show()\n"
   ]
  },
  {
   "cell_type": "code",
   "execution_count": 8,
   "metadata": {
    "collapsed": true
   },
   "outputs": [],
   "source": [
    "# plot of ws and power; red n blue [1s]\n",
    "\n",
    "from mpl_toolkits.axes_grid.anchored_artists import AnchoredText\n",
    "\n",
    "import seaborn as sns; sns.set() \n",
    " \n",
    "sns.set_palette(\"hls\") \n",
    "\n",
    "sns.set_style(\"white\")\n",
    "\n",
    "fig, ax1 = plt.subplots()\n",
    "\n",
    "\n",
    "\n",
    "#df1 = df.copy(deep=True)\n",
    "df1 = df1.dropna()\n",
    "\n",
    "# correl coef\n",
    "\n",
    "dfnonapw = df1.dropna(subset=['speed', 'power'], how='any')\n",
    "\n",
    "correl2 = np.corrcoef(dfnonapw.speed, dfnonapw.power)\n",
    "#######\n",
    "\n",
    "fig1 = plt.figure()\n",
    "ax1 = fig1.add_subplot(6, 1, 1)\n",
    "ax2 = fig1.add_subplot(6, 1, 1)\n",
    "ax2 = ax1.twinx()\n",
    "\n",
    "#ax1.subplot(7, 1, 1)\n",
    "ax1.plot(df1.power.loc[df1.index.month ==5], label='power [kW]', color=\"r\")\n",
    "ax2.plot(df1.speed.loc[df1.index.month ==5], label='wind speed at 80m [m/s]', color=\"b\")\n",
    "#ax2.set_ylabel('wind speed at 80m [m/s]', color='b', fontsize = 26)\n",
    "#ax2.tick_params('y', colors='b')\n",
    "\n",
    "\n",
    "ax1.set_title('Wind speed vs. power', fontsize = 30)\n",
    "ax1.legend(fontsize=22, bbox_to_anchor=(.76, .8), loc=3)\n",
    "\n",
    "ax2.legend(fontsize=22, bbox_to_anchor=(.76, 1.13), loc=3)\n",
    "# ax1.set_ylim(0,18)\n",
    "ax1.set_xlim('05-01-2011','05-31-2011')\n",
    "\n",
    "######\n",
    "\n",
    "ax1 = fig1.add_subplot(7, 1, 2)\n",
    "ax2 = fig1.add_subplot(7, 1, 2)\n",
    "ax2 = ax1.twinx()\n",
    "ax1.plot(df1.power.loc[df1.index.month ==6], label='wind speed at 10m', color=\"r\")\n",
    "ax2.plot(df1.speed.loc[df1.index.month ==6], label='wind speed at 80m', color=\"b\")\n",
    "ax1.set_xlim('06-01-2011','06-30-2011')\n",
    "\n",
    "########\n",
    "ax1 = fig1.add_subplot(7, 1, 3)\n",
    "ax2 = fig1.add_subplot(7, 1, 3)\n",
    "ax2 = ax1.twinx()\n",
    "ax1.plot(df1.power.loc[df1.index.month ==7], label='wind speed at 10m', color=\"r\")\n",
    "ax2.plot(df1.speed.loc[df1.index.month ==7], label='wind speed at 80m', color=\"b\")\n",
    "ax1.set_xlim('07-01-2011','07-31-2011')\n",
    "\n",
    "\n",
    "ax1 = fig1.add_subplot(7, 1, 4)\n",
    "ax2 = fig1.add_subplot(7, 1, 4)\n",
    "ax2 = ax1.twinx()\n",
    "ax1.plot(df1.power.loc[df1.index.month ==8], label='wind speed at 10m', color=\"r\")\n",
    "ax1.set_ylabel('power [kW]', color='r', fontsize = 27, labelpad = 10)\n",
    "\n",
    "ax2.plot(df1.speed.loc[df1.index.month ==8], label='wind speed at 80m', color=\"b\")\n",
    "ax2.set_ylabel('wind speed [m/s]', color='b', fontsize = 27, labelpad = 10)\n",
    "\n",
    "#ax1.ylabel('wind speed [m/s]', fontsize = 26)\n",
    "ax1.set_xlim('08-01-2011','08-31-2011')\n",
    "\n",
    "ax1 = fig1.add_subplot(7, 1, 5)\n",
    "ax2 = fig1.add_subplot(7, 1, 5)\n",
    "ax2 = ax1.twinx()\n",
    "ax1.plot(df1.power.loc[df1.index.month ==9], label='wind speed at 10m', color=\"r\")\n",
    "ax2.plot(df1.speed.loc[df1.index.month ==9], label='wind speed at 80m', color=\"b\")\n",
    "ax1.set_xlim('09-01-2011','09-30-2011')\n",
    "\n",
    "ax1 = fig1.add_subplot(7, 1, 6)\n",
    "ax2 = fig1.add_subplot(7, 1, 6)\n",
    "ax2 = ax1.twinx()\n",
    "ax1.plot(df1.power.loc[df1.index.month ==10], label='wind speed at 10m', color=\"r\")\n",
    "ax2.plot(df1.speed.loc[df1.index.month ==10], label='wind speed at 80m', color=\"b\")\n",
    "ax1.set_xlim('10-01-2011', '10-30-2011')\n",
    "\n",
    "# ax1 = fig1.add_subplot(7, 1, 7)\n",
    "# ax2 = fig1.add_subplot(7, 1, 7)\n",
    "# ax2 = ax1.twinx()\n",
    "# ax1.plot(df1.power.loc[df1.index.month ==10], label='power [kW]', color=\"r\")\n",
    "# ax2.plot(df1.speed.loc[df1.index.month ==10], label='wind speed at 80m [m/s]', color=\"b\")\n",
    "# ax1.set_xlim('10-01-2011', '10-30-2011')\n",
    "\n",
    "ax1.set_xlabel('time [1s interval]', fontsize = 27)\n",
    "\n",
    "at = AnchoredText('Correl = {:.2f}'.format( correl2[0,1]),\n",
    "                  prop=dict(size=20), frameon=True,\n",
    "                  loc=4,\n",
    "                  )\n",
    "\n",
    "at.patch.set_boxstyle(\"round,pad=0.,rounding_size=0.2\")\n",
    "ax1.add_artist(at)\n",
    "#plt.ylim(,)\n",
    "# plt.xticks(fontsize=20)\n",
    "# plt.yticks(fontsize=20)\n",
    "\n",
    "plt.show()\n"
   ]
  },
  {
   "cell_type": "code",
   "execution_count": 12,
   "metadata": {
    "collapsed": true
   },
   "outputs": [],
   "source": [
    "# hourly analysis [plus stats std dev max min]\n",
    "\n",
    "# hourly avg for months\n",
    "# hourly avg for the whole period\n",
    "\n",
    "\n",
    "plt.plot(df1.speed)\n",
    "\n",
    "plt.legend(fontsize=22)\n",
    "plt.xlabel('time', fontsize = 26)\n",
    "plt.ylabel('wind speed [m/s]', fontsize = 26)\n",
    "#plt.xlim('06-01-2011','06-02-2011')\n",
    "# plt.ylim(-100,)\n",
    "plt.xticks(fontsize=20)\n",
    "plt.yticks(fontsize=20)\n",
    "plt.title('Wind speed for different time intervals ', fontsize = 28)\n",
    "\n",
    "plt.show()"
   ]
  },
  {
   "cell_type": "code",
   "execution_count": null,
   "metadata": {
    "collapsed": true
   },
   "outputs": [],
   "source": []
  },
  {
   "cell_type": "code",
   "execution_count": null,
   "metadata": {
    "collapsed": true
   },
   "outputs": [],
   "source": []
  },
  {
   "cell_type": "code",
   "execution_count": null,
   "metadata": {
    "collapsed": true
   },
   "outputs": [],
   "source": []
  }
 ],
 "metadata": {
  "kernelspec": {
   "display_name": "Python 3",
   "language": "python",
   "name": "python3"
  },
  "language_info": {
   "codemirror_mode": {
    "name": "ipython",
    "version": 3
   },
   "file_extension": ".py",
   "mimetype": "text/x-python",
   "name": "python",
   "nbconvert_exporter": "python",
   "pygments_lexer": "ipython3",
   "version": "3.5.1"
  }
 },
 "nbformat": 4,
 "nbformat_minor": 0
}
