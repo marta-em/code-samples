{
 "cells": [
  {
   "cell_type": "code",
   "execution_count": 1,
   "metadata": {
    "collapsed": true
   },
   "outputs": [],
   "source": [
    "import numpy as np\n",
    "import pandas as pd\n",
    "import matplotlib.pyplot as plt\n",
    "from scipy import spatial\n",
    "from datetime import timedelta\n",
    "import seaborn as sns\n",
    "import scipy.stats as stats\n",
    "from datetime import timedelta\n",
    "\n",
    "\n",
    "df2 = pd.read_csv('D:\\data from MnM Samdal raw\\Samdal_power_1s_no_outliers_after_all_outliers_removal.csv',  parse_dates=[0])"
   ]
  },
  {
   "cell_type": "code",
   "execution_count": 9,
   "metadata": {
    "collapsed": false
   },
   "outputs": [
    {
     "name": "stdout",
     "output_type": "stream",
     "text": [
      "(array([], dtype=int64),)\n"
     ]
    }
   ],
   "source": [
    "bad_indices = np.where(np.isinf(df2.speed))\n",
    "\n",
    "print(bad_indices)"
   ]
  },
  {
   "cell_type": "code",
   "execution_count": 11,
   "metadata": {
    "collapsed": false
   },
   "outputs": [
    {
     "name": "stdout",
     "output_type": "stream",
     "text": [
      "352.96798952881255\n"
     ]
    }
   ],
   "source": [
    "from datetime import timedelta\n",
    "sns.set_style(\"white\")\n",
    "\n",
    "df2 = df2.rename( columns={\"Unnamed: 0\": \"time\"})\n",
    "df2 = df2.drop(df2[df2.time.dt.month==4].index)  # discard April \n",
    "speed_ex = df2.power\n",
    "df2 = df2.dropna()\n",
    "\n",
    "mean_speed = np.mean(speed_ex)\n",
    "median_speed = np.median(speed_ex)\n",
    "\n",
    "# plot for whole time period\n",
    "plt.hist(speed_ex, bins=np.linspace(0, speed_ex.max(), 60), normed=True, alpha=0.5)\n",
    "\n",
    "#plot mean and median\n",
    "plt.axvline(mean_speed, color='red', label='mean')\n",
    "plt.axvline(median_speed, color='b', label='median')\n",
    "\n",
    "plt.title('Probability distribution [1s resolution];  mean = %s [kW]   median = %s [kW]' \n",
    "          % ( round(mean_speed), round(median_speed)), fontsize = 28)\n",
    "    \n",
    "plt.xlabel('wind power [kW]', fontsize = 26)\n",
    "plt.ylabel('probability', fontsize = 26)\n",
    "plt.legend(fontsize=26)\n",
    "\n",
    "plt.xticks(np.arange(0, max(speed_ex)+100, 250), fontsize=22)\n",
    "plt.yticks(fontsize=22)\n",
    "plt.show()"
   ]
  },
  {
   "cell_type": "code",
   "execution_count": null,
   "metadata": {
    "collapsed": true
   },
   "outputs": [],
   "source": []
  }
 ],
 "metadata": {
  "kernelspec": {
   "display_name": "Python 3",
   "language": "python",
   "name": "python3"
  },
  "language_info": {
   "codemirror_mode": {
    "name": "ipython",
    "version": 3
   },
   "file_extension": ".py",
   "mimetype": "text/x-python",
   "name": "python",
   "nbconvert_exporter": "python",
   "pygments_lexer": "ipython3",
   "version": "3.5.1"
  }
 },
 "nbformat": 4,
 "nbformat_minor": 0
}
