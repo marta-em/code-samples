{
 "cells": [
  {
   "cell_type": "code",
   "execution_count": 1,
   "metadata": {
    "collapsed": false
   },
   "outputs": [
    {
     "name": "stdout",
     "output_type": "stream",
     "text": [
      "(1, 1.714132873222868, 0, 5.0274574866541384)\n",
      "Wall time: 57.6 s\n"
     ]
    }
   ],
   "source": [
    "%%time\n",
    "import numpy as np\n",
    "import pandas as pd\n",
    "import matplotlib.pyplot as plt\n",
    "from scipy import spatial\n",
    "from datetime import timedelta\n",
    "import seaborn as sns\n",
    "import scipy.stats as stats\n",
    "\n",
    "\n",
    "df2 = pd.read_csv('D:\\data from MnM Samdal raw\\Samdal_power_1min_no_outliers.csv',  parse_dates=[0])\n",
    "\n",
    "df2 = df2.rename( columns={\"Unnamed: 0\": \"time\"})\n",
    "df2 = df2.drop(df2[df2.time.dt.month==4].index)\n",
    "df2 = df2.dropna()\n",
    "\n",
    "months = [\n",
    "df2.speed.loc[df2.time.dt.month==5],\n",
    "df2.speed.loc[df2.time.dt.month==6],\n",
    "df2.speed.loc[df2.time.dt.month==7],\n",
    "df2.speed.loc[df2.time.dt.month==8],\n",
    "df2.speed.loc[df2.time.dt.month==9],\n",
    "df2.speed.loc[df2.time.dt.month==10]\n",
    "]\n",
    "\n",
    "speed_ex = df2.speed\n",
    "\n",
    "# a, c : array_like shape parameters\n",
    "# loc : array_like, optional location parameter (default=0)\n",
    "# scale : array_like, optional scale parameter (default=1)\n",
    "\n",
    "# obtaining  parameters\n",
    "# floc=0 keeps the location fixed at zero,\n",
    "# f0=1 keeps the first shape parameter of the exponential weibull fixed at one.\n",
    "\n",
    "stats.exponweib.fit(speed_ex, floc=0, f0=1)\n",
    "print(stats.exponweib.fit(speed_ex, floc=0, f0=1))\n"
   ]
  },
  {
   "cell_type": "code",
   "execution_count": 2,
   "metadata": {
    "collapsed": false
   },
   "outputs": [
    {
     "name": "stdout",
     "output_type": "stream",
     "text": [
      "1 1.71413287322 0 5.02745748665\n"
     ]
    }
   ],
   "source": [
    "# a, c, loc, scale = stats.exponweib.fit(speed_ex, floc=0, f0=1)\n",
    "\n",
    "# print(a, c, loc, scale)"
   ]
  },
  {
   "cell_type": "code",
   "execution_count": 2,
   "metadata": {
    "collapsed": false
   },
   "outputs": [
    {
     "name": "stdout",
     "output_type": "stream",
     "text": [
      "1 1.71413287322 0 5.02745748665\n",
      "1.71413287322 0 5.02745748665\n",
      "(1.714132873222868, 0, 5.0274574866541384)\n"
     ]
    }
   ],
   "source": [
    "a, c, loc, scale = stats.exponweib.fit(speed_ex, floc=0, f0=1)\n",
    "\n",
    "print(a, c, loc, scale)\n",
    "\n",
    "p0, p1, p2 = stats.weibull_min.fit(speed_ex, floc=0)\n",
    "print(p0, p1, p2)\n",
    "print(stats.weibull_min.fit(speed_ex, floc=0))\n",
    "ydata = stats.weibull_min.pdf(np.linspace(0, speed_ex.max(), 140), p0, p1, p2)\n",
    "\n",
    "mean_speed = np.mean(speed_ex)\n",
    "median_speed = np.median(speed_ex)"
   ]
  },
  {
   "cell_type": "code",
   "execution_count": 3,
   "metadata": {
    "collapsed": false
   },
   "outputs": [],
   "source": [
    "# plot for whole time period\n",
    "\n",
    "sns.set_style(\"white\")\n",
    "\n",
    "plt.hist(speed_ex, bins=np.linspace(0, speed_ex.max(), 35), normed=True, alpha=0.5)\n",
    "\n",
    "plt.plot(np.linspace(0, speed_ex.max(), 140), ydata)\n",
    "\n",
    "#plot mean and median\n",
    "plt.axvline(mean_speed, color='red', label='mean')\n",
    "plt.axvline(median_speed, color='b', label='median')\n",
    "\n",
    "plt.title('Weibull distribution. c = %s  scale = %s ;  mean = %s [m/s]   median = %s [m/s]' \n",
    "          % (round(p0,2), round(p2,2), round(mean_speed,2), round(median_speed,2)), fontsize = 28)\n",
    "         \n",
    "plt.xlabel('wind speed [m/s]', fontsize = 26)\n",
    "plt.ylabel('probability', fontsize = 26)\n",
    "\n",
    "plt.xticks(fontsize=22)\n",
    "plt.yticks(fontsize=22)\n",
    "plt.legend(fontsize=26)\n",
    "\n",
    "plt.show()"
   ]
  },
  {
   "cell_type": "code",
   "execution_count": 8,
   "metadata": {
    "collapsed": true
   },
   "outputs": [],
   "source": [
    "# plot for each month. loop\n",
    "\n",
    "sns.set_palette(\"hls\", 6) # 6 color sequence\n",
    "\n",
    "month_names = ['May', 'Jun', 'Jul', 'Aug', 'Sep', 'Oct']\n",
    "\n",
    "for m, n in zip(months, month_names):\n",
    "    a, c, loc, scale = stats.exponweib.fit(m, floc=0, f0=1)\n",
    "    p0, p1, p2 = stats.weibull_min.fit(m, floc=0)\n",
    "    ydata = stats.weibull_min.pdf(np.linspace(0, m.max(), 140), p0, p1, p2)\n",
    "    \n",
    "    plt.plot(np.linspace(0, m.max(), 140), ydata, linewidth=3, label=n)\n",
    "    \n",
    "\n",
    "plt.title('Wind speed distributions for each month', fontsize = 28)\n",
    "plt.xlabel('wind speed [m/s]', fontsize = 26)\n",
    "plt.ylabel('probability', fontsize = 26)\n",
    "\n",
    "plt.xticks(fontsize=22)\n",
    "plt.yticks(fontsize=22)\n",
    "plt.legend(fontsize=24)\n",
    "plt.show()   \n"
   ]
  },
  {
   "cell_type": "code",
   "execution_count": null,
   "metadata": {
    "collapsed": true
   },
   "outputs": [],
   "source": []
  },
  {
   "cell_type": "code",
   "execution_count": null,
   "metadata": {
    "collapsed": true
   },
   "outputs": [],
   "source": []
  }
 ],
 "metadata": {
  "kernelspec": {
   "display_name": "Python 3",
   "language": "python",
   "name": "python3"
  },
  "language_info": {
   "codemirror_mode": {
    "name": "ipython",
    "version": 3
   },
   "file_extension": ".py",
   "mimetype": "text/x-python",
   "name": "python",
   "nbconvert_exporter": "python",
   "pygments_lexer": "ipython3",
   "version": "3.5.1"
  }
 },
 "nbformat": 4,
 "nbformat_minor": 0
}
